{
 "cells": [
  {
   "cell_type": "code",
   "execution_count": 8,
   "id": "83c9f66d",
   "metadata": {},
   "outputs": [],
   "source": [
    "import json\n",
    "import pandas as pd\n",
    "import requests\n",
    "import datetime\n",
    "from binance import Client\n",
    "import matplotlib.pyplot as plt\n",
    "import numpy as np\n",
    "import os\n",
    "from binance.client import Client\n",
    "import datetime, time\n",
    "from datetime import datetime\n",
    "from numba import jit"
   ]
  },
  {
   "cell_type": "markdown",
   "id": "b0edbdd3",
   "metadata": {},
   "source": [
    "# Бэктест_начало\n"
   ]
  },
  {
   "cell_type": "code",
   "execution_count": 9,
   "id": "244ba1f6",
   "metadata": {},
   "outputs": [],
   "source": [
    "# Требуется собрать данные в датафрейм df \n",
    "# Задаем даты начала и конца бектеста\n",
    "start_date = '11/05/2022'\n",
    "end_date = '11/08/2022'\n",
    "# interval = '5 min' # '15 min', '30 min'\n",
    "\n",
    "def GetHistoricalData(symbol, interval, fromDate, toDate):\n",
    "    klines = client.get_historical_klines(symbol, interval, fromDate, toDate)\n",
    "    df = pd.DataFrame(klines, columns=['dateTime', 'open', 'high', 'low', 'close', 'volume', 'closeTime', 'quoteAssetVolume', 'numberOfTrades', 'takerBuyBaseVol', 'takerBuyQuoteVol', 'ignore'])\n",
    "    df.dateTime = pd.to_datetime(df.dateTime, unit='ms')\n",
    "    df['date'] = df.dateTime.dt.strftime(\"%d/%m/%Y\")\n",
    "    df['time'] = df.dateTime.dt.strftime(\"%H:%M:%S\")\n",
    "    df = df.drop(['dateTime', 'closeTime', 'quoteAssetVolume', 'numberOfTrades', 'takerBuyBaseVol','takerBuyQuoteVol', 'ignore'], axis=1)\n",
    "    column_names = [\"date\", \"time\", \"open\", \"high\", \"low\", \"volume\"]\n",
    "    df = df.reindex(columns=column_names)\n",
    "    return df\n",
    "    \n",
    "api_key = \"\"\n",
    "api_secret = \"\"\n",
    "client = Client(api_key, api_secret)\n",
    "\n",
    "\n",
    "fromDate = str(datetime.strptime(start_date, '%d/%m/%Y'))\n",
    "toDate = str(datetime.strptime(end_date, '%d/%m/%Y'))\n",
    "symbol = \"ETHUSDT\"\n",
    "interval = Client.KLINE_INTERVAL_5MINUTE\n",
    "df = GetHistoricalData(symbol, interval, fromDate, toDate)"
   ]
  },
  {
   "cell_type": "markdown",
   "id": "d2a78dca",
   "metadata": {},
   "source": [
    "## Определим 3 функции прибыли:  \n",
    "Пока они вне класса, нужно внести их. \n"
   ]
  },
  {
   "cell_type": "code",
   "execution_count": 10,
   "id": "f128328f",
   "metadata": {},
   "outputs": [],
   "source": [
    "def unforward_earnings(start_price, end_price, high_board, low_board):\n",
    "    \"\"\"Функция должна получить всю необходимую информацию и возвратить итоговую прибыль-убыток в пуле.\n",
    "    Тут не учитываются заработанные комиссии. Только изменение стоимости токенов и их соотношение.\n",
    "    Внимание!!!! Тут есть допущения - вкладываются равные части вверх и вниз\"\"\"\n",
    "    # Если после 24(или другого) периода цена оказалась выше изначальной\n",
    "    if end_price >= start_price:\n",
    "        res =  ((min(end_price, high_board)-start_price)/2+start_price)/start_price*0.5+0.5\n",
    "    elif end_price < start_price:\n",
    "        res =  (0.5/((start_price - max(end_price, low_board))/2 + max(end_price, low_board)) + 0.5/start_price)*end_price\n",
    "    return (res-1)*100 # возвращаем результат в процентах!\n",
    "\n",
    "def simple_hedge(start_price, end_price, ratio):\n",
    "    '''Данная функция принимает начальную и конечную стоимость. А так же параметры хеджирования - долю хеджа\n",
    "    Возвращает процентный заработок/убыток из за хеджа в % от всех инвестиций(не только захеджированных)'''\n",
    "    res = -(end_price-start_price)/start_price\n",
    "    return res*100*ratio\n",
    "\n",
    "def persentage_earnings(const=1):\n",
    "    '''Функция принимает необходимые параметры и рассчитывает доходность в % от всех изначальных инвестиций\n",
    "    Для начала используем константу - 1%'''\n",
    "    res = const\n",
    "    return res\n",
    "    \n"
   ]
  },
  {
   "cell_type": "code",
   "execution_count": 11,
   "id": "dfd117ad",
   "metadata": {},
   "outputs": [
    {
     "data": {
      "text/plain": [
       "5.000000000000004"
      ]
     },
     "execution_count": 11,
     "metadata": {},
     "output_type": "execute_result"
    }
   ],
   "source": [
    "unforward_earnings(100, 120, 140, 90)"
   ]
  },
  {
   "cell_type": "code",
   "execution_count": 12,
   "id": "33a43906",
   "metadata": {},
   "outputs": [],
   "source": [
    "################### Инициализация параметров обучения ######################\n",
    "n_info = 24 # часов для обучения (не совсем обучение, скорее зависимая часть)\n",
    "n_forcast = 24 # на какой период предсказываем\n",
    "intervals_in_hour = 12 # какими интервалами оперируем здесь 12 - 5 минутки"
   ]
  },
  {
   "cell_type": "code",
   "execution_count": 13,
   "id": "57efb65d",
   "metadata": {},
   "outputs": [],
   "source": [
    "# Класс который принимаем в себя всю необходимую информацию и подготавливает данные, рассчитывает интервалы и тп\n",
    "class Interval_calculator:\n",
    "    def __init__(self, df, n_info, n_forcast, intervals_in_hour):\n",
    "        self.df = df\n",
    "        self.n_info = n_info\n",
    "        self.n_forcast = n_forcast\n",
    "        self.intervals_in_hour = intervals_in_hour\n",
    "        self.make_new_col()\n",
    "        self.preob()\n",
    "        self.calculate_intervals()\n",
    "        self.make_data_for_back()\n",
    "        self.get_periodic()\n",
    "        \n",
    "    def make_new_col(self):\n",
    "        '''Потребуются относительные изменения'''\n",
    "        print('Добавляю относительные изменения')\n",
    "        df = self.df\n",
    "        mass = np.zeros(len(df))\n",
    "        mass[0] = 1 # первую точку доопределяем 1\n",
    "        values = df['open'].values.astype(float)\n",
    "        for i in range(1, len(df)):\n",
    "            mass[i] = values[i]/values[i-1]\n",
    "            df['change'] = mass\n",
    "        self.df = df\n",
    "        return    \n",
    "        \n",
    "        \n",
    "    def preob(self):\n",
    "        '''Функция просто создает кучу разбивок для бутстрэпа и предсказания\n",
    "        df - датасет\n",
    "        n_info - сколько часов брать для \"обучения\"\n",
    "        n_forcast - на сколько часов давать прогноз\n",
    "        intervals_in_hour - количество выбранных интерваллов в часе (если минутные данные то 60)\n",
    "        '''\n",
    "        print('Создаю разбивку - данные для рассчета интервала и теста')\n",
    "        df, n_info, n_forcast, intervals_in_hour = self.df, self.n_info, self.n_forcast, self.intervals_in_hour\n",
    "        self.dict_res = {}\n",
    "        for i in range(n_info*intervals_in_hour, len(df)-n_forcast*intervals_in_hour):\n",
    "            fold_info = df[i-n_info*intervals_in_hour : i] # Срез датасета\n",
    "            fold_res = df[i : i+n_forcast*intervals_in_hour] # Срез датасета\n",
    "            self.dict_res[i] = [fold_info, fold_res] # В словаре лежат два датасета под каждым ключом\n",
    "        return \n",
    "    \n",
    "    @jit\n",
    "    def bootstrap(self, mass, n_forcast, intervals_in_hour):\n",
    "        '''Функция бутстрэпит изменения за прошедшие часы (это длина массива) n_forcast*intervals_in_hour раз, \n",
    "        процедура повторяется 10000 раз, в резульатате мы перемножеаем значения и выдаем прогноз в каждой точке таким образом (10000 симуляций)'''\n",
    "        mass_res = np.zeros((10000, 2)) # 2 - нижняя и верхняя границы для каждой симуляции\n",
    "        mass = np.array(mass) # переводим в numpy\n",
    "        n = len(mass) # длина выборки для обучения\n",
    "        size_forecast = n_forcast*intervals_in_hour\n",
    "        # случайно берем числа до n, размера n_forcast*intervals_in_hour\n",
    "        indexes = np.random.randint(n, size=size_forecast*10000)\n",
    "        change = mass[[indexes]]\n",
    "        change = change.reshape((10000, size_forecast))\n",
    "        # теперь рассомтрим куммулятивное перемножение- предсказанное поведение\n",
    "        cum_change = np.cumprod(change, axis=1)\n",
    "        # минимальное и максимальные значения внутри временного интервалла\n",
    "        min_ = np.min(cum_change, axis=1)\n",
    "        max_ = np.max(cum_change, axis=1)\n",
    "        sorted_res_min = np.sort(min_)\n",
    "        sorted_res_max = np.sort(max_)\n",
    "        high, low = sorted_res_max[9500], sorted_res_min[500]\n",
    "        return np.array([high, low])\n",
    "    \n",
    "    def get_real(self, df):\n",
    "      '''Функция нужна для валидации - возвращает верхние и нижние границы'''\n",
    "      high = (df['high'].values.astype(float))\n",
    "      low = (df['low'].values.astype(float))\n",
    "      return np.hstack([high, low])\n",
    "    \n",
    "    def calculate_intervals(self):\n",
    "        print('Рассчитываю интерваллы')\n",
    "        dict_res, n_forcast, intervals_in_hour = self.dict_res, self.n_forcast, self.intervals_in_hour\n",
    "        calculated_intervals = np.zeros((len(dict_res), 2))\n",
    "        real_intervals = np.zeros((len(dict_res), n_forcast*intervals_in_hour*2)) # запоминаем  всю динамику  умножение на 2 тк записываем для верха и для низа\n",
    "        k = 0\n",
    "        for key in dict_res:\n",
    "            real_intervals[k, :] = self.get_real(dict_res[key][1])\n",
    "\n",
    "            # требуется для абсолютных значений запомнить цену открытия\n",
    "            last_value = dict_res[key][0]['open'].values.astype(float)[-1]\n",
    "\n",
    "            calculated = self.bootstrap(dict_res[key][0]['change'].values, n_forcast, intervals_in_hour)\n",
    "\n",
    "            calculated_intervals[k, 0:2] = calculated*last_value\n",
    "\n",
    "            k += 1\n",
    "            j = int(len(dict_res)/200)\n",
    "            if k % j == 0:\n",
    "                print('progress = {} %'.format(round(k/len(dict_res)*100, 3)))\n",
    "        self.intervals = calculated_intervals, real_intervals\n",
    "        return\n",
    "\n",
    "    def make_data_for_back(self):\n",
    "        print('Преобразую данные для бэктеста')\n",
    "        intervals, n_forcast, intervals_in_hour = self.intervals, self.n_forcast, self.intervals_in_hour\n",
    "        # mass high, low, start, end\n",
    "        k_end = n_forcast*intervals_in_hour-1\n",
    "        mass = np.zeros((len(intervals[0]), 4))\n",
    "        for i in range(len(intervals[0])):\n",
    "            mass[i, :] = *intervals[0][i] , intervals[1][i][0], intervals[1][i][k_end]\n",
    "    #         intervals[0][i] - high, low\n",
    "    #         intervals[1][i][0] - start\n",
    "    #         intervals[1][i][k] - end\n",
    "        self.data_for_back = mass\n",
    "        return\n",
    "\n",
    "    def make_data_for_back(self):\n",
    "        intervals, n_forcast, intervals_in_hour = self.intervals, self.n_forcast, self.intervals_in_hour\n",
    "        # mass high, low, start, end\n",
    "        k_end = n_forcast*intervals_in_hour-1\n",
    "        mass = np.zeros((len(intervals[0]), 4))\n",
    "        for i in range(len(intervals[0])):\n",
    "            mass[i, :] = *intervals[0][i] , intervals[1][i][0], intervals[1][i][k_end]\n",
    "    #         intervals[0][i] - high, low\n",
    "    #         intervals[1][i][0] - start\n",
    "    #         intervals[1][i][k] - end\n",
    "        self.data_for_back = mass\n",
    "        return\n",
    "    \n",
    "    def dynamic_hedge(self, i, price_for_f=0.1, hedge_activation=0.01):\n",
    "        all_sum = 0\n",
    "        hedge_activated = 0\n",
    "        intervals, n_forcast, intervals_in_hour = self.intervals, self.n_forcast, self.intervals_in_hour\n",
    "        i = i*n_forcast*intervals_in_hour\n",
    "        start_price = intervals[1][i][0]\n",
    "        end_price = intervals[1][i][intervals_in_hour*n_forcast-1]\n",
    "        highs = intervals[1][i][:intervals_in_hour*n_forcast]\n",
    "        lows = intervals[1][i][intervals_in_hour*n_forcast:]\n",
    "        for j in range(len(highs)):\n",
    "            # Если нет хеджа и цена пошла вниз, открываем позицию, платим премию\n",
    "            if hedge_activated == 0 and lows[j] < (1-hedge_activation)*start_price:\n",
    "                hedge_activated = 1\n",
    "                all_sum -= price_for_f\n",
    "            # Если цена пошла вверх, нужно закрыть хедж если он существует, заплатив за это\n",
    "            elif hedge_activated == 1 and highs[j] > (1+hedge_activation)*start_price:\n",
    "                hedge_activated = 0\n",
    "                all_sum += -(highs[j]-start_price*(1-hedge_activation))/start_price*100\n",
    "        if hedge_activated == 1:\n",
    "            all_sum += -(end_price-start_price*(1-hedge_activation))/start_price*100\n",
    "        \n",
    "        return all_sum\n",
    "    \n",
    "    def option_hedge(self, i, price_o = 0, strike=0.99):\n",
    "        '''Данная функция принимает стоимость опциона, и выдает конечную прибыль или убыток\n",
    "        , убыток не больше стоимости опциона. Стоимость опциона выражается в процентах'''\n",
    "        start = self.periodic_data_for_back[i, :][2]\n",
    "        end = self.periodic_data_for_back[i, :][3]\n",
    "        # затраты на опцион\n",
    "        res = -price_o\n",
    "        # покупаем опицон со страйком strike = 0.99 от цены старта, если цена ушла ниже страйка то добавляем прибыль\n",
    "        if start*strike > end:\n",
    "            res += (start*strike-end)/start*100 # результат в процентах\n",
    "        return res\n",
    "        \n",
    "    \n",
    "    def get_periodic(self):\n",
    "        data_for_back, n_forcast, intervals_in_hour = self.data_for_back, self.n_forcast, self.intervals_in_hour\n",
    "        '''Просто обрезка, выбор каждого n часового результата'''\n",
    "        self.periodic_data_for_back = data_for_back[::n_forcast*intervals_in_hour, :]\n",
    "        return \n",
    "    \n",
    "    def back_test(self, ratio_for_hedge, hadge_type='simple', dyn_price=0.1, hedge_activation=0.01,  const_earnings=1,\n",
    "                 price_o=0, strike=0.99):\n",
    "        '''Функция проводит анализ стратегии, возвращает список прибыли/убытков в каждый период'''\n",
    "        mass_for_back, n_forcast = self.periodic_data_for_back, self.n_forcast\n",
    "        earnings = np.zeros(len(mass_for_back))\n",
    "#         print(ratio_for_hedge, hadge_type)\n",
    "        for i in range(len(mass_for_back)):\n",
    "            high_board, low_board, start_price, end_price = mass_for_back[i, :]\n",
    "\n",
    "            e1 = unforward_earnings(start_price, end_price, high_board, low_board)\n",
    "            # тут есть допущение - хедж для нас не требует блокировку активов - фьючерсы в общем ,причем бесплатные\n",
    "            if hadge_type == 'simple':\n",
    "                e2 = simple_hedge(start_price, end_price, ratio_for_hedge)\n",
    "            elif hadge_type == 'f':\n",
    "                e2 = self.dynamic_hedge(i, price_for_f=dyn_price, hedge_activation=hedge_activation)\n",
    "            elif hadge_type == 'o':\n",
    "                e2 = self.option_hedge(i, price_o=price_o, strike=strike)\n",
    "            e3 = persentage_earnings(const_earnings)*n_forcast/24\n",
    "            earnings[i] = e1+e2+e3\n",
    "        return earnings\n",
    "    \n",
    "    \n",
    "    def plot_results(self, hedges, add_dynamic=False, add_o=False, dyn_price=0.1, hedge_activation=0.01, const_earnings=1, price_o=0, strike=0.99):\n",
    "        fig = plt.figure(figsize = (10, 10))\n",
    "        mass_for_back = self.periodic_data_for_back\n",
    "        x = range(0, len(mass_for_back)*8, 8)\n",
    "    #     x = range(0, len(mass_for_back))\n",
    "        for hedge in hedges:\n",
    "            earnings = self.back_test(hedge, const_earnings=const_earnings)\n",
    "            y = np.cumsum(earnings)\n",
    "            plt.plot(x, y, label = 'hedge = {}'.format(hedge))\n",
    "            plt.xlabel('Время в часах с начала стратегии', fontsize=15)\n",
    "            plt.ylabel('Доходность в %', fontsize=15)\n",
    "            plt.title('Анализ итоговой доходности при использовании стратегии', fontsize = 15)\n",
    "        if add_dynamic:\n",
    "            earnings = self.back_test(0, hadge_type='f', dyn_price=dyn_price, hedge_activation=hedge_activation, \n",
    "                                      const_earnings=const_earnings)\n",
    "            y = np.cumsum(earnings)\n",
    "            plt.plot(x, y, label = 'dynamic_hedge')\n",
    "        if add_o:\n",
    "            earnings = self.back_test(0, hadge_type='o', price_o=price_o, strike=strike)\n",
    "            y = np.cumsum(earnings)\n",
    "            plt.plot(x, y, label = 'option')\n",
    "        plt.legend(prop={'size': 10})\n",
    "        \n",
    "    def plot_price(self):\n",
    "        # Просто отрисовка того, как изменялся курс, чтобы интерпретировать прибыли и убытки в стратегии\n",
    "        mass_for_back = self.periodic_data_for_back\n",
    "        fig = plt.figure(figsize = (10, 10))\n",
    "        plt.plot(mass_for_back[:, 3])\n",
    "        plt.title('Курс ETH/USDT')\n",
    "        \n",
    "    def change_price_distr(self):\n",
    "        mass_for_back = self.periodic_data_for_back\n",
    "        change = np.zeros(len(mass_for_back))\n",
    "        starts = mass_for_back[:, 2]\n",
    "        ends = mass_for_back[:, 3]\n",
    "        for i in range(len(change)):\n",
    "            end = ends[i]\n",
    "            start = starts[i]\n",
    "            res = (end - start)/start*100 # итог в процентах +10% или -0.5%\n",
    "            change[i] = res\n",
    "        fig = plt.figure(figsize = (10, 10))\n",
    "        plt.xlabel('Изменение стоимости в %', fontsize=15)\n",
    "        plt.hist(change, bins=15)\n",
    "        plt.show()\n",
    "\n",
    "    \n"
   ]
  },
  {
   "cell_type": "code",
   "execution_count": 14,
   "id": "ab7134ae",
   "metadata": {},
   "outputs": [
    {
     "name": "stdout",
     "output_type": "stream",
     "text": [
      "Добавляю относительные изменения\n",
      "Создаю разбивку - данные для рассчета интервала и теста\n",
      "Рассчитываю интерваллы\n"
     ]
    },
    {
     "name": "stderr",
     "output_type": "stream",
     "text": [
      "<ipython-input-13-bbc68887b0a8>:44: NumbaWarning: \u001b[1m\n",
      "Compilation is falling back to object mode WITH looplifting enabled because Function \"bootstrap\" failed type inference due to: \u001b[1m\u001b[1mnon-precise type pyobject\u001b[0m\n",
      "\u001b[0m\u001b[1mDuring: typing of argument at <ipython-input-13-bbc68887b0a8> (48)\u001b[0m\n",
      "\u001b[1m\n",
      "File \"<ipython-input-13-bbc68887b0a8>\", line 48:\u001b[0m\n",
      "\u001b[1m    def bootstrap(self, mass, n_forcast, intervals_in_hour):\n",
      "        <source elided>\n",
      "        процедура повторяется 10000 раз, в резульатате мы перемножеаем значения и выдаем прогноз в каждой точке таким образом (10000 симуляций)'''\n",
      "\u001b[1m        mass_res = np.zeros((10000, 2)) # 2 - нижняя и верхняя границы для каждой симуляции\n",
      "\u001b[0m        \u001b[1m^\u001b[0m\u001b[0m\n",
      "\u001b[0m\n",
      "  @jit\n",
      "/Users/vladislav705/opt/anaconda3/lib/python3.8/site-packages/numba/core/object_mode_passes.py:151: NumbaWarning: \u001b[1mFunction \"bootstrap\" was compiled in object mode without forceobj=True.\n",
      "\u001b[1m\n",
      "File \"<ipython-input-13-bbc68887b0a8>\", line 45:\u001b[0m\n",
      "\u001b[1m    @jit\n",
      "\u001b[1m    def bootstrap(self, mass, n_forcast, intervals_in_hour):\n",
      "\u001b[0m    \u001b[1m^\u001b[0m\u001b[0m\n",
      "\u001b[0m\n",
      "  warnings.warn(errors.NumbaWarning(warn_msg,\n",
      "/Users/vladislav705/opt/anaconda3/lib/python3.8/site-packages/numba/core/object_mode_passes.py:161: NumbaDeprecationWarning: \u001b[1m\n",
      "Fall-back from the nopython compilation path to the object mode compilation path has been detected, this is deprecated behaviour.\n",
      "\n",
      "For more information visit https://numba.pydata.org/numba-doc/latest/reference/deprecation.html#deprecation-of-object-mode-fall-back-behaviour-when-using-jit\n",
      "\u001b[1m\n",
      "File \"<ipython-input-13-bbc68887b0a8>\", line 45:\u001b[0m\n",
      "\u001b[1m    @jit\n",
      "\u001b[1m    def bootstrap(self, mass, n_forcast, intervals_in_hour):\n",
      "\u001b[0m    \u001b[1m^\u001b[0m\u001b[0m\n",
      "\u001b[0m\n",
      "  warnings.warn(errors.NumbaDeprecationWarning(msg,\n",
      "<ipython-input-13-bbc68887b0a8>:84: FutureWarning: Using a non-tuple sequence for multidimensional indexing is deprecated; use `arr[tuple(seq)]` instead of `arr[seq]`. In the future this will be interpreted as an array index, `arr[np.array(seq)]`, which will result either in an error or a different result.\n",
      "  calculated = self.bootstrap(dict_res[key][0]['change'].values, n_forcast, intervals_in_hour)\n"
     ]
    },
    {
     "name": "stdout",
     "output_type": "stream",
     "text": [
      "progress = 0.498 %\n",
      "progress = 0.995 %\n",
      "progress = 1.493 %\n",
      "progress = 1.991 %\n",
      "progress = 2.488 %\n",
      "progress = 2.986 %\n",
      "progress = 3.484 %\n",
      "progress = 3.981 %\n",
      "progress = 4.479 %\n",
      "progress = 4.977 %\n",
      "progress = 5.474 %\n",
      "progress = 5.972 %\n",
      "progress = 6.47 %\n",
      "progress = 6.967 %\n",
      "progress = 7.465 %\n",
      "progress = 7.963 %\n",
      "progress = 8.46 %\n",
      "progress = 8.958 %\n",
      "progress = 9.456 %\n",
      "progress = 9.953 %\n",
      "progress = 10.451 %\n",
      "progress = 10.949 %\n",
      "progress = 11.446 %\n",
      "progress = 11.944 %\n",
      "progress = 12.442 %\n",
      "progress = 12.939 %\n",
      "progress = 13.437 %\n",
      "progress = 13.935 %\n",
      "progress = 14.432 %\n",
      "progress = 14.93 %\n",
      "progress = 15.428 %\n",
      "progress = 15.925 %\n",
      "progress = 16.423 %\n",
      "progress = 16.921 %\n",
      "progress = 17.418 %\n",
      "progress = 17.916 %\n",
      "progress = 18.414 %\n",
      "progress = 18.911 %\n",
      "progress = 19.409 %\n",
      "progress = 19.907 %\n",
      "progress = 20.404 %\n",
      "progress = 20.902 %\n",
      "progress = 21.4 %\n",
      "progress = 21.897 %\n",
      "progress = 22.395 %\n",
      "progress = 22.893 %\n",
      "progress = 23.39 %\n",
      "progress = 23.888 %\n",
      "progress = 24.386 %\n",
      "progress = 24.883 %\n",
      "progress = 25.381 %\n",
      "progress = 25.879 %\n",
      "progress = 26.376 %\n",
      "progress = 26.874 %\n",
      "progress = 27.372 %\n",
      "progress = 27.869 %\n",
      "progress = 28.367 %\n",
      "progress = 28.865 %\n",
      "progress = 29.362 %\n",
      "progress = 29.86 %\n",
      "progress = 30.358 %\n",
      "progress = 30.855 %\n",
      "progress = 31.353 %\n",
      "progress = 31.851 %\n",
      "progress = 32.348 %\n",
      "progress = 32.846 %\n",
      "progress = 33.344 %\n",
      "progress = 33.841 %\n",
      "progress = 34.339 %\n",
      "progress = 34.837 %\n",
      "progress = 35.334 %\n",
      "progress = 35.832 %\n",
      "progress = 36.33 %\n",
      "progress = 36.827 %\n",
      "progress = 37.325 %\n",
      "progress = 37.823 %\n",
      "progress = 38.32 %\n",
      "progress = 38.818 %\n",
      "progress = 39.316 %\n",
      "progress = 39.813 %\n",
      "progress = 40.311 %\n",
      "progress = 40.809 %\n",
      "progress = 41.306 %\n",
      "progress = 41.804 %\n",
      "progress = 42.302 %\n",
      "progress = 42.799 %\n",
      "progress = 43.297 %\n",
      "progress = 43.795 %\n",
      "progress = 44.292 %\n",
      "progress = 44.79 %\n",
      "progress = 45.288 %\n",
      "progress = 45.785 %\n",
      "progress = 46.283 %\n",
      "progress = 46.781 %\n",
      "progress = 47.278 %\n",
      "progress = 47.776 %\n",
      "progress = 48.274 %\n",
      "progress = 48.771 %\n",
      "progress = 49.269 %\n",
      "progress = 49.767 %\n",
      "progress = 50.264 %\n",
      "progress = 50.762 %\n",
      "progress = 51.26 %\n",
      "progress = 51.757 %\n",
      "progress = 52.255 %\n",
      "progress = 52.753 %\n",
      "progress = 53.25 %\n",
      "progress = 53.748 %\n",
      "progress = 54.246 %\n",
      "progress = 54.743 %\n",
      "progress = 55.241 %\n",
      "progress = 55.739 %\n",
      "progress = 56.236 %\n",
      "progress = 56.734 %\n",
      "progress = 57.232 %\n",
      "progress = 57.729 %\n",
      "progress = 58.227 %\n",
      "progress = 58.725 %\n",
      "progress = 59.222 %\n",
      "progress = 59.72 %\n",
      "progress = 60.218 %\n",
      "progress = 60.715 %\n",
      "progress = 61.213 %\n",
      "progress = 61.711 %\n",
      "progress = 62.208 %\n",
      "progress = 62.706 %\n",
      "progress = 63.204 %\n",
      "progress = 63.701 %\n",
      "progress = 64.199 %\n",
      "progress = 64.697 %\n",
      "progress = 65.194 %\n",
      "progress = 65.692 %\n",
      "progress = 66.19 %\n",
      "progress = 66.687 %\n",
      "progress = 67.185 %\n",
      "progress = 67.683 %\n",
      "progress = 68.18 %\n",
      "progress = 68.678 %\n",
      "progress = 69.176 %\n",
      "progress = 69.673 %\n",
      "progress = 70.171 %\n",
      "progress = 70.669 %\n",
      "progress = 71.166 %\n",
      "progress = 71.664 %\n",
      "progress = 72.162 %\n",
      "progress = 72.659 %\n",
      "progress = 73.157 %\n",
      "progress = 73.655 %\n",
      "progress = 74.152 %\n",
      "progress = 74.65 %\n",
      "progress = 75.148 %\n",
      "progress = 75.645 %\n",
      "progress = 76.143 %\n",
      "progress = 76.641 %\n",
      "progress = 77.138 %\n",
      "progress = 77.636 %\n",
      "progress = 78.134 %\n",
      "progress = 78.631 %\n",
      "progress = 79.129 %\n",
      "progress = 79.627 %\n",
      "progress = 80.124 %\n",
      "progress = 80.622 %\n",
      "progress = 81.12 %\n",
      "progress = 81.617 %\n",
      "progress = 82.115 %\n",
      "progress = 82.613 %\n",
      "progress = 83.11 %\n",
      "progress = 83.608 %\n",
      "progress = 84.106 %\n",
      "progress = 84.603 %\n",
      "progress = 85.101 %\n",
      "progress = 85.599 %\n",
      "progress = 86.096 %\n",
      "progress = 86.594 %\n",
      "progress = 87.092 %\n",
      "progress = 87.589 %\n",
      "progress = 88.087 %\n",
      "progress = 88.585 %\n",
      "progress = 89.082 %\n",
      "progress = 89.58 %\n",
      "progress = 90.078 %\n",
      "progress = 90.575 %\n",
      "progress = 91.073 %\n",
      "progress = 91.571 %\n",
      "progress = 92.068 %\n",
      "progress = 92.566 %\n",
      "progress = 93.064 %\n",
      "progress = 93.561 %\n",
      "progress = 94.059 %\n",
      "progress = 94.557 %\n",
      "progress = 95.054 %\n",
      "progress = 95.552 %\n",
      "progress = 96.05 %\n",
      "progress = 96.547 %\n",
      "progress = 97.045 %\n",
      "progress = 97.543 %\n",
      "progress = 98.04 %\n",
      "progress = 98.538 %\n",
      "progress = 99.036 %\n",
      "progress = 99.533 %\n"
     ]
    }
   ],
   "source": [
    "back_test_obj = Interval_calculator(df, n_info, n_forcast, intervals_in_hour)"
   ]
  },
  {
   "cell_type": "code",
   "execution_count": 28,
   "id": "6ec12451",
   "metadata": {},
   "outputs": [],
   "source": [
    "hedges = [0, 0.1, 1]"
   ]
  },
  {
   "cell_type": "code",
   "execution_count": 38,
   "id": "5877f6fb",
   "metadata": {
    "scrolled": false
   },
   "outputs": [
    {
     "data": {
      "image/png": "[encoded data removed]",
      "text/plain": [
       "<Figure size 720x720 with 1 Axes>"
      ]
     },
     "metadata": {
      "needs_background": "light"
     },
     "output_type": "display_data"
    }
   ],
   "source": [
    "back_test_obj.plot_results(hedges, add_dynamic=False, dyn_price=0.1, hedge_activation=0.05, add_o=True,\n",
    "                 price_o=0.5, strike=0.97)"
   ]
  },
  {
   "cell_type": "markdown",
   "id": "4317e9ac",
   "metadata": {},
   "source": [
    "### Рассмотрим как изменялся курс ETH/USDT"
   ]
  },
  {
   "cell_type": "code",
   "execution_count": 18,
   "id": "ff63124f",
   "metadata": {},
   "outputs": [
    {
     "data": {
      "image/png": "[encoded data removed]",
      "text/plain": [
       "<Figure size 720x720 with 1 Axes>"
      ]
     },
     "metadata": {
      "needs_background": "light"
     },
     "output_type": "display_data"
    }
   ],
   "source": [
    "back_test_obj.plot_price()"
   ]
  },
  {
   "cell_type": "markdown",
   "id": "b95548cc",
   "metadata": {},
   "source": [
    "### Дополнительно проверим как распределены изменения в стоимости (после 24 часов)¶\n"
   ]
  },
  {
   "cell_type": "code",
   "execution_count": 39,
   "id": "58bbc843",
   "metadata": {},
   "outputs": [
    {
     "data": {
      "image/png": "[encoded data removed]",
      "text/plain": [
       "<Figure size 720x720 with 1 Axes>"
      ]
     },
     "metadata": {
      "needs_background": "light"
     },
     "output_type": "display_data"
    }
   ],
   "source": [
    "back_test_obj.change_price_distr()"
   ]
  },
  {
   "cell_type": "markdown",
   "id": "90e5bf5b",
   "metadata": {},
   "source": [
    "### Дополнительно проверим как распределены изменения в стоимости (после 8 часов)¶"
   ]
  },
  {
   "cell_type": "code",
   "execution_count": null,
   "id": "9110e955",
   "metadata": {},
   "outputs": [],
   "source": []
  },
  {
   "cell_type": "markdown",
   "id": "281c07f7",
   "metadata": {},
   "source": [
    "# Все что ниже игнорировать!"
   ]
  },
  {
   "cell_type": "markdown",
   "id": "93db6a79",
   "metadata": {},
   "source": [
    "# Все что ниже игнорировать!"
   ]
  },
  {
   "cell_type": "markdown",
   "id": "0d747578",
   "metadata": {},
   "source": [
    "# Все что ниже игнорировать!"
   ]
  },
  {
   "cell_type": "markdown",
   "id": "e6bfd11e",
   "metadata": {},
   "source": [
    "# Все что ниже игнорировать!"
   ]
  },
  {
   "cell_type": "markdown",
   "id": "c0a55a5d",
   "metadata": {},
   "source": [
    "# Все что ниже игнорировать!"
   ]
  },
  {
   "cell_type": "code",
   "execution_count": null,
   "id": "d0b1f2c0",
   "metadata": {},
   "outputs": [],
   "source": []
  },
  {
   "cell_type": "code",
   "execution_count": null,
   "id": "d5d81ffb",
   "metadata": {},
   "outputs": [],
   "source": []
  },
  {
   "cell_type": "code",
   "execution_count": null,
   "id": "33b45672",
   "metadata": {},
   "outputs": [],
   "source": []
  },
  {
   "cell_type": "code",
   "execution_count": null,
   "id": "809468d0",
   "metadata": {},
   "outputs": [],
   "source": []
  },
  {
   "cell_type": "code",
   "execution_count": 80,
   "id": "5ff7eb7e",
   "metadata": {},
   "outputs": [],
   "source": []
  },
  {
   "cell_type": "code",
   "execution_count": 108,
   "id": "453d6b94",
   "metadata": {},
   "outputs": [],
   "source": [
    "i = 2"
   ]
  },
  {
   "cell_type": "code",
   "execution_count": 109,
   "id": "1783747a",
   "metadata": {},
   "outputs": [
    {
     "data": {
      "text/plain": [
       "2.409423997960405"
      ]
     },
     "execution_count": 109,
     "metadata": {},
     "output_type": "execute_result"
    }
   ],
   "source": [
    "back_test_obj.dynamic_hedge(i, price_for_f=0.1)"
   ]
  },
  {
   "cell_type": "code",
   "execution_count": 110,
   "id": "b66e8d1d",
   "metadata": {},
   "outputs": [],
   "source": [
    "j = i*96"
   ]
  },
  {
   "cell_type": "code",
   "execution_count": 111,
   "id": "ab757210",
   "metadata": {},
   "outputs": [
    {
     "data": {
      "text/plain": [
       "array([1101.25212149, 1015.66736684, 1081.54      , 1039.12      ])"
      ]
     },
     "execution_count": 111,
     "metadata": {},
     "output_type": "execute_result"
    }
   ],
   "source": [
    "back_test_obj.data_for_back[j,:]"
   ]
  },
  {
   "cell_type": "code",
   "execution_count": 112,
   "id": "d014aa0a",
   "metadata": {},
   "outputs": [
    {
     "data": {
      "text/plain": [
       "array([1101.25212149, 1015.66736684, 1081.54      , 1039.12      ])"
      ]
     },
     "execution_count": 112,
     "metadata": {},
     "output_type": "execute_result"
    }
   ],
   "source": [
    "back_test_obj.periodic_data_for_back[i, :]"
   ]
  },
  {
   "cell_type": "code",
   "execution_count": 113,
   "id": "f78d3065",
   "metadata": {},
   "outputs": [
    {
     "data": {
      "text/plain": [
       "[<matplotlib.lines.Line2D at 0x7fc35ca23910>]"
      ]
     },
     "execution_count": 113,
     "metadata": {},
     "output_type": "execute_result"
    },
    {
     "data": {
      "image/png": "[encoded data removed]",
      "text/plain": [
       "<Figure size 432x288 with 1 Axes>"
      ]
     },
     "metadata": {
      "needs_background": "light"
     },
     "output_type": "display_data"
    }
   ],
   "source": [
    "\n",
    "highs = back_test_obj.intervals[1][j][:96]\n",
    "lows = back_test_obj.intervals[1][j][96:]\n",
    "plt.plot(highs)\n",
    "plt.plot(lows)"
   ]
  },
  {
   "cell_type": "code",
   "execution_count": 114,
   "id": "c7883b3b",
   "metadata": {},
   "outputs": [],
   "source": [
    "intervals = back_test_obj.intervals"
   ]
  },
  {
   "cell_type": "code",
   "execution_count": 115,
   "id": "778fb635",
   "metadata": {},
   "outputs": [
    {
     "name": "stdout",
     "output_type": "stream",
     "text": [
      "-0.1\n"
     ]
    }
   ],
   "source": [
    "highs = intervals[1][j][:intervals_in_hour*n_forcast]\n",
    "lows = intervals[1][j][intervals_in_hour*n_forcast:]\n",
    "start_price = intervals[1][j][0]\n",
    "end_price = intervals[1][j][intervals_in_hour*n_forcast-1]\n",
    "hedge_activated = 0\n",
    "all_sum = 0\n",
    "dict_dots = {}\n",
    "for k in range(len(highs)):\n",
    "    if hedge_activated == 0 and lows[k] < 0.99*start_price:\n",
    "        hedge_activated = 1\n",
    "        all_sum -= price_for_f\n",
    "        dict_dots[k] = lows[k]\n",
    "    elif hedge_activated == 1 and highs[k] > 1.01*start_price:\n",
    "        hedge_activated = 0\n",
    "        dict_dots[k] = highs[k]\n",
    "print(all_sum)\n",
    "if hedge_activated == 1:\n",
    "    all_sum += -(end_price-start_price*0.99)/start_price*100\n",
    "    "
   ]
  },
  {
   "cell_type": "code",
   "execution_count": 116,
   "id": "73e80c14",
   "metadata": {},
   "outputs": [
    {
     "data": {
      "image/png": "[encoded data removed]",
      "text/plain": [
       "<Figure size 432x288 with 1 Axes>"
      ]
     },
     "metadata": {
      "needs_background": "light"
     },
     "output_type": "display_data"
    }
   ],
   "source": [
    "highs = back_test_obj.intervals[1][j][:96]\n",
    "lows = back_test_obj.intervals[1][j][96:]\n",
    "plt.plot(highs)\n",
    "plt.plot(lows)\n",
    "for key in dict_dots:\n",
    "    plt.scatter([key], dict_dots[key])"
   ]
  },
  {
   "cell_type": "code",
   "execution_count": null,
   "id": "e54462c7",
   "metadata": {},
   "outputs": [],
   "source": []
  },
  {
   "cell_type": "code",
   "execution_count": null,
   "id": "b93a5335",
   "metadata": {},
   "outputs": [],
   "source": []
  },
  {
   "cell_type": "code",
   "execution_count": null,
   "id": "fa6b150d",
   "metadata": {},
   "outputs": [],
   "source": []
  },
  {
   "cell_type": "code",
   "execution_count": null,
   "id": "b00a1e10",
   "metadata": {},
   "outputs": [],
   "source": []
  },
  {
   "cell_type": "code",
   "execution_count": null,
   "id": "32ec8526",
   "metadata": {},
   "outputs": [],
   "source": []
  },
  {
   "cell_type": "code",
   "execution_count": 41,
   "id": "1fd84559",
   "metadata": {},
   "outputs": [
    {
     "name": "stdout",
     "output_type": "stream",
     "text": [
      "-0.1\n",
      "0.9307387980085323\n"
     ]
    }
   ],
   "source": [
    "price_for_f = 0.1\n",
    "all_sum = 0\n",
    "hedge_activated = 0\n",
    "i = 160\n",
    "intervals = back_test_obj.intervals\n",
    "n_forcast = 8\n",
    "intervals_in_hour = 12\n",
    "\n",
    "start_price = intervals[1][i][0]\n",
    "end_price = intervals[1][i][intervals_in_hour*n_forcast-1]\n",
    "highs = intervals[1][i][:intervals_in_hour*n_forcast]\n",
    "lows = intervals[1][i][intervals_in_hour*n_forcast:]\n",
    "for j in range(len(highs)):\n",
    "    if hedge_activated == 0 and lows[j] < 0.99*start_price:\n",
    "        hedge_activated = 1\n",
    "        all_sum -= price_for_f\n",
    "    elif hedge_activated == 1 and highs[j] > 1.01*start_price:\n",
    "        hedge_activated = 0\n",
    "print(all_sum)\n",
    "if hedge_activated == 1:\n",
    "    all_sum += -(end_price-start_price)/start_price*100\n",
    "\n",
    "print(all_sum)"
   ]
  },
  {
   "cell_type": "code",
   "execution_count": null,
   "id": "d18b45ef",
   "metadata": {},
   "outputs": [],
   "source": [
    "def dynamic_hedge(self, i, price_for_f=0.1):\n",
    "        all_sum = 0\n",
    "        hedge_activated = 0\n",
    "        intervals, n_forcast, intervals_in_hour = self.intervals, self.n_forcast, self.intervals_in_hour\n",
    "        start_price = intervals[1][i][0]\n",
    "        end_price = intervals[1][i][intervals_in_hour*n_forcast-1]\n",
    "        highs = intervals[1][i][:intervals_in_hour*n_forcast]\n",
    "        lows = intervals[1][i][intervals_in_hour*n_forcast:]\n",
    "        for j in range(len(highs)):\n",
    "            if hedge_activated == 0 and lows[j] < 0.99*start_price:\n",
    "                hedge_activated = 1\n",
    "                all_sum -= price_for_f\n",
    "            elif hedge_activated == 1 and highs[j] > 1.01*start_price:\n",
    "                hedge_activated = 0\n",
    "        if hedge_activated == 1:\n",
    "            all_sum += -(end_price-start_price)/start_price*100\n",
    "        \n",
    "        return all_sum"
   ]
  },
  {
   "cell_type": "code",
   "execution_count": null,
   "id": "14ba9084",
   "metadata": {},
   "outputs": [],
   "source": []
  },
  {
   "cell_type": "code",
   "execution_count": null,
   "id": "513b8eea",
   "metadata": {},
   "outputs": [],
   "source": []
  },
  {
   "cell_type": "code",
   "execution_count": null,
   "id": "f724da9b",
   "metadata": {},
   "outputs": [],
   "source": []
  },
  {
   "cell_type": "code",
   "execution_count": null,
   "id": "e33576f4",
   "metadata": {},
   "outputs": [],
   "source": []
  },
  {
   "cell_type": "markdown",
   "id": "b2c7c72f",
   "metadata": {},
   "source": []
  },
  {
   "cell_type": "markdown",
   "id": "26a48e88",
   "metadata": {},
   "source": [
    "### проверка логики работы"
   ]
  },
  {
   "cell_type": "code",
   "execution_count": 58,
   "id": "406c649a",
   "metadata": {},
   "outputs": [],
   "source": [
    "start_price = 1600\n",
    "\n",
    "high_board = 1700\n",
    "low_board = 1500\n",
    "\n",
    "end_price = 500\n",
    "\n",
    "n_forcast = 8\n",
    "ratio_for_hedge = 1\n",
    "e1 = unforward_earnings(start_price, end_price, high_board, low_board)\n",
    "# тут есть допущение - хедж для нас не требует блокировку активов - фьючерсы в общем , причем бесплатные\n",
    "e2 = simple_hedge(start_price, end_price, ratio_for_hedge)\n",
    "e3 = persentage_earnings()*n_forcast/24"
   ]
  },
  {
   "cell_type": "code",
   "execution_count": 59,
   "id": "72afcf52",
   "metadata": {},
   "outputs": [
    {
     "name": "stdout",
     "output_type": "stream",
     "text": [
      "-68.24596774193547  Заработок внутри пула\n",
      "68.75  Заработок от хеджа\n",
      "0.3333333333333333  Процентный заработок\n",
      "0.8373655913978599 Итог\n"
     ]
    }
   ],
   "source": [
    "print(e1, ' Заработок внутри пула')\n",
    "print(e2, ' Заработок от хеджа')\n",
    "print(e3, ' Процентный заработок')\n",
    "print(e1+e2+e3, \"Итог\")"
   ]
  },
  {
   "cell_type": "code",
   "execution_count": null,
   "id": "3dd6d127",
   "metadata": {},
   "outputs": [],
   "source": []
  },
  {
   "cell_type": "code",
   "execution_count": null,
   "id": "a6da23e2",
   "metadata": {},
   "outputs": [],
   "source": []
  }
 ],
 "metadata": {
  "kernelspec": {
   "display_name": "Python 3",
   "language": "python",
   "name": "python3"
  },
  "language_info": {
   "codemirror_mode": {
    "name": "ipython",
    "version": 3
   },
   "file_extension": ".py",
   "mimetype": "text/x-python",
   "name": "python",
   "nbconvert_exporter": "python",
   "pygments_lexer": "ipython3",
   "version": "3.8.8"
  }
 },
 "nbformat": 4,
 "nbformat_minor": 5
}
