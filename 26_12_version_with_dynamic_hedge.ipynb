{
 "cells": [
  {
   "cell_type": "code",
   "execution_count": 672,
   "id": "83c9f66d",
   "metadata": {},
   "outputs": [],
   "source": [
    "import json\n",
    "import pandas as pd\n",
    "import requests\n",
    "import datetime\n",
    "from binance import Client\n",
    "import matplotlib.pyplot as plt\n",
    "import numpy as np\n",
    "import os\n",
    "from binance.client import Client\n",
    "import datetime, time\n",
    "from datetime import datetime\n",
    "from numba import jit\n",
    "import math"
   ]
  },
  {
   "cell_type": "markdown",
   "id": "b0edbdd3",
   "metadata": {},
   "source": [
    "# Бэктест_начало\n"
   ]
  },
  {
   "cell_type": "code",
   "execution_count": 673,
   "id": "244ba1f6",
   "metadata": {},
   "outputs": [],
   "source": [
    "# Требуется собрать данные в датафрейм df \n",
    "# Задаем даты начала и конца бектеста\n",
    "start_date = '15/04/2022'\n",
    "end_date = '15/05/2022'\n",
    "# interval = '5 min' # '15 min', '30 min'\n",
    "\n",
    "def GetHistoricalData(symbol, interval, fromDate, toDate):\n",
    "    klines = client.get_historical_klines(symbol, interval, fromDate, toDate)\n",
    "    df = pd.DataFrame(klines, columns=['dateTime', 'open', 'high', 'low', 'close', 'volume', 'closeTime', 'quoteAssetVolume', 'numberOfTrades', 'takerBuyBaseVol', 'takerBuyQuoteVol', 'ignore'])\n",
    "    df.dateTime = pd.to_datetime(df.dateTime, unit='ms')\n",
    "    df['date'] = df.dateTime.dt.strftime(\"%d/%m/%Y\")\n",
    "    df['time'] = df.dateTime.dt.strftime(\"%H:%M:%S\")\n",
    "    df = df.drop(['dateTime', 'closeTime', 'quoteAssetVolume', 'numberOfTrades', 'takerBuyBaseVol','takerBuyQuoteVol', 'ignore'], axis=1)\n",
    "    column_names = [\"date\", \"time\", \"open\",\"close\", \"high\", \"low\", \"volume\"]\n",
    "    df = df.reindex(columns=column_names)\n",
    "    return df\n",
    "    \n",
    "api_key = \"\"\n",
    "api_secret = \"\"\n",
    "client = Client(api_key, api_secret)\n",
    "\n",
    "\n",
    "fromDate = str(datetime.strptime(start_date, '%d/%m/%Y'))\n",
    "toDate = str(datetime.strptime(end_date, '%d/%m/%Y'))\n",
    "symbol = \"ETHUSDT\"\n",
    "interval = Client.KLINE_INTERVAL_5MINUTE\n",
    "df = GetHistoricalData(symbol, interval, fromDate, toDate)"
   ]
  },
  {
   "cell_type": "markdown",
   "id": "d2a78dca",
   "metadata": {},
   "source": [
    "## Определим функции прибыли:  \n",
    "Пока они вне класса, нужно внести их. \n"
   ]
  },
  {
   "cell_type": "code",
   "execution_count": 685,
   "id": "f128328f",
   "metadata": {},
   "outputs": [],
   "source": [
    "def unforward_earnings(start_price, end_price, high_board, low_board):\n",
    "    \"\"\"Функция должна получить всю необходимую информацию и возвратить итоговую прибыль-убыток в пуле.\n",
    "    Тут не учитываются заработанные комиссии. Только изменение стоимости токенов и их соотношение\"\"\"\n",
    "    # Если после 24(или другого) периода цена оказалась выше изначальной\n",
    "    p_ETH = (high_board-start_price)/(high_board-low_board)# доля ETH\n",
    "    p_USDT = (1-p_ETH)# доля USDT\n",
    "    if end_price >= start_price:\n",
    "        if end_price >= high_board:\n",
    "            res = ((high_board-start_price)/2+start_price)/start_price*p_ETH+p_USDT\n",
    "        else:\n",
    "            p = (end_price-start_price)/(high_board-start_price) # доля проданного ETH\n",
    "            a1 = ((end_price-start_price)/2+start_price)/start_price*p*p_ETH\n",
    "            a2 = p_USDT\n",
    "            a3 = p_ETH*(1-p)*(end_price)/start_price #непроданный ETH\n",
    "            res =  a1+a2+a3\n",
    "    elif end_price < start_price:\n",
    "        if end_price <= low_board:\n",
    "            res = (p_USDT/(low_board+(start_price - low_board)/2)+p_ETH/start_price)*end_price\n",
    "        else:\n",
    "            p = (start_price-end_price)/(start_price-low_board) # доля обменянных долларов\n",
    "            a1 = p_USDT*p/(end_price+(start_price - end_price)/2)*end_price# сумма от обменянных долларов\n",
    "            a2 = p_USDT*(1-p) # остатки долларов\n",
    "            a3 = p_ETH*end_price/start_price# изначальный подешевевший эфир\n",
    "            res =  a1+a2+a3\n",
    "    return (res-1)*100 # возвращаем результат в процентах!\n",
    "\n",
    "def simple_hedge(start_price, end_price, ratio):\n",
    "    '''Данная функция принимает начальную и конечную стоимость. А так же параметры хеджирования - долю хеджа\n",
    "    Возвращает процентный заработок/убыток из за хеджа в % '''\n",
    "    res = -(end_price-start_price)/start_price\n",
    "    return res*100*ratio\n",
    "\n",
    "\n",
    "def return_curent_eth(start_price, end_price, high_board, low_board, eth_pool, usd_pool):\n",
    "    '''Функция возвращает количество эфира для хеджа, в долларах'''\n",
    "    # Исходим из того, что равномерно размазаны именно доллары! И эфир в тиках в долларах\n",
    "    if end_price >= start_price:\n",
    "        if end_price >= high_board:\n",
    "            # у нас только usdt\n",
    "            res = 0\n",
    "        else:\n",
    "            p = (end_price-start_price)/(high_board-start_price) # доля проданного ETH (в долларах)\n",
    "            res = eth_pool*(1-p)\n",
    "    elif end_price < start_price:\n",
    "        if end_price <= low_board:\n",
    "            # долларов нет, все это эфир\n",
    "            res = usd_pool+eth_pool # в результате имеем старый и новый эфир\n",
    "        else:\n",
    "            # рассчитаем сколько долларов стали ETH\n",
    "            p = (start_price-end_price)/(start_price-low_board)# доля обменянных долларов\n",
    "            res =  p*usd_pool+eth_pool\n",
    "    return res\n",
    "\n",
    "\n",
    "\n",
    "\n",
    "\n",
    "\n",
    "def dynamic_hedge(eth_pool, usd_pool, high_board,\n",
    "                                   low_board, start_price, end_price, index, dict_res, n_forcast,\n",
    "                  intervals_in_hour, n_info):\n",
    "    \"\"\"Будет делать рехедж n раз за все время\n",
    "    Для этого нам потребуется open, close за все время сидения в пуле\n",
    "    Изначально хеджируется весь эфир, затем, вместе с движением цены изменяется доля эфира в пуле.\n",
    "    Требуется изменять хедж.\n",
    "    Поскольку мы принебрегаем комиссиями, в данной реализации, считаем,\n",
    "    что каждый раз мы закрываем позицию и открываем новую на другую сумму\n",
    "    \"\"\"\n",
    "    n_rehedge = 23\n",
    "    # преобразуем индекс (сложная штука из за того, что до этого использовали каждую 24*12 строчку)\n",
    "    i = index*n_forcast*intervals_in_hour # получаем индекс в массиве всех строк\n",
    "    index_in_dict_res = i+intervals_in_hour*n_info # тут i это сплошной, \n",
    "\n",
    "    open_prices = dict_res[index_in_dict_res][1]['open'].values.astype(float)\n",
    "    close_prices = dict_res[index_in_dict_res][1]['close'].values.astype(float)\n",
    "    leverage = 1\n",
    "    current_hedge = eth_pool\n",
    "    money = eth_pool\n",
    "    start_price0 = start_price\n",
    "    for i in range(1, n_rehedge+1):\n",
    "         # 1 - закрываем позицю по хеджу, фиксируем прибыль/убытки\n",
    "        # 2 - считаем размер новой позиции. Тут потребуется плечо - то есть его рассчет и использование\n",
    "        # перезаписываем текущую позицию\n",
    "         \n",
    "        # смотрим цену закрытия\n",
    "        ind = i*n_forcast*intervals_in_hour/(n_rehedge+1)-1 # 5минутка для закрытия позиции\n",
    "        ind = int(ind)\n",
    "        close_price = close_prices[ind]\n",
    "        # считаем доходы по закрытому хеджу (фьючу)\n",
    "        earning = -(close_price-start_price)/start_price*current_hedge*leverage\n",
    "        \n",
    "        money += earning\n",
    "        # смотрим сколько эфира нужно захеджировать\n",
    "        ETH_to_hedge = return_curent_eth(start_price0, close_price, high_board, low_board, eth_pool, usd_pool)\n",
    "        \n",
    "        # выбираем плечо, максимально 3е, не больше. Основываемся на том, сколько у нас средств\n",
    "        leverage = math.ceil(ETH_to_hedge/money)\n",
    "        if ETH_to_hedge == 0:\n",
    "            current_hedge = 0\n",
    "        elif leverage > 3:\n",
    "            leverage = 3\n",
    "            # все деньги, максимальное плечо\n",
    "            current_hedge = money\n",
    "        elif leverage <= 3:\n",
    "            current_hedge = ETH_to_hedge/leverage\n",
    "        # изменяем цену старта для нового фьючерса\n",
    "        start_price = open_prices[ind+1]\n",
    "            \n",
    "    return money-eth_pool\n",
    "        \n",
    "        \n",
    "    \n",
    "    \n",
    "\n",
    "def persentage_earnings(const=1):\n",
    "    '''Функция принимает необходимые параметры и рассчитывает доходность в % от всех изначальных инвестиций\n",
    "    Для начала используем константу - 1%'''\n",
    "#     res = const\n",
    "    res = 0.6 # тут ручками задать \n",
    "    return res\n",
    "\n",
    "def calc_ratio(start_price, high_board, low_board):\n",
    "    return (high_board-start_price)/(high_board-low_board)\n",
    "    \n"
   ]
  },
  {
   "cell_type": "code",
   "execution_count": 675,
   "id": "33a43906",
   "metadata": {},
   "outputs": [],
   "source": [
    "################### Инициализация параметров обучения ######################\n",
    "n_info = 24 # часов для обучения (не совсем обучение, скорее зависимая часть)\n",
    "n_forcast = 24 # на какой период предсказываем\n",
    "intervals_in_hour = 12 # какими интервалами оперируем здесь 12 - 5 минутки"
   ]
  },
  {
   "cell_type": "markdown",
   "id": "3185c78c",
   "metadata": {},
   "source": [
    "### Далее класс, его просто инициализировать"
   ]
  },
  {
   "cell_type": "code",
   "execution_count": 676,
   "id": "57efb65d",
   "metadata": {},
   "outputs": [],
   "source": [
    "# Класс который принимаем в себя всю необходимую информацию и подготавливает данные, рассчитывает интервалы и тп\n",
    "class Interval_calculator:\n",
    "    def __init__(self, df, n_info, n_forcast, intervals_in_hour):\n",
    "        self.df = df\n",
    "        self.n_info = n_info\n",
    "        self.n_forcast = n_forcast\n",
    "        self.intervals_in_hour = intervals_in_hour\n",
    "        self.make_new_col()\n",
    "        self.preob()\n",
    "        self.calculate_intervals()\n",
    "        self.make_data_for_back()\n",
    "        self.get_periodic()\n",
    "        self.make_dates()\n",
    "    \n",
    "    def make_dates(self):\n",
    "        n_info, n_forcast, intervals_in_hour = self.n_info, self.n_forcast, self.intervals_in_hour\n",
    "        df_for_dates = self.df.iloc[n_info*intervals_in_hour:len(df)-n_forcast*intervals_in_hour]\n",
    "        dates = df_for_dates['date'].values\n",
    "        final_dates = dates[::intervals_in_hour*n_forcast]\n",
    "        self.dates = final_dates\n",
    "        \n",
    "    def make_new_col(self):\n",
    "        '''Потребуются относительные изменения'''\n",
    "        print('Добавляю относительные изменения')\n",
    "        df = self.df\n",
    "        mass = np.zeros(len(df))\n",
    "        mass[0] = 1 # первую точку доопределяем 1\n",
    "        values = df['open'].values.astype(float)\n",
    "        for i in range(1, len(df)):\n",
    "            mass[i] = values[i]/values[i-1]\n",
    "            df['change'] = mass\n",
    "        self.df = df\n",
    "        return    \n",
    "        \n",
    "        \n",
    "    def preob(self):\n",
    "        '''Функция просто создает кучу разбивок для бутстрэпа и предсказания\n",
    "        df - датасет\n",
    "        n_info - сколько часов брать для \"обучения\"\n",
    "        n_forcast - на сколько часов давать прогноз\n",
    "        intervals_in_hour - количество выбранных интерваллов в часе (если минутные данные то 60)\n",
    "        '''\n",
    "        print('Создаю разбивку - данные для рассчета интервала и теста')\n",
    "        df, n_info, n_forcast, intervals_in_hour = self.df, self.n_info, self.n_forcast, self.intervals_in_hour\n",
    "        self.dict_res = {}\n",
    "        for i in range(n_info*intervals_in_hour, len(df)-n_forcast*intervals_in_hour):\n",
    "            fold_info = df[i-n_info*intervals_in_hour : i] # Срез датасета\n",
    "            fold_res = df[i : i+n_forcast*intervals_in_hour] # Срез датасета\n",
    "            self.dict_res[i] = [fold_info, fold_res] # В словаре лежат два датасета под каждым ключом\n",
    "        return \n",
    "    \n",
    "    @jit\n",
    "    def bootstrap(self, mass, n_forcast, intervals_in_hour):\n",
    "        '''Функция бутстрэпит изменения за прошедшие часы (это длина массива) n_forcast*intervals_in_hour раз, \n",
    "        процедура повторяется 10000 раз, в резульатате мы перемножеаем значения и выдаем прогноз в каждой точке таким образом (10000 симуляций)'''\n",
    "        mass_res = np.zeros((10000, 2)) # 2 - нижняя и верхняя границы для каждой симуляции\n",
    "        mass = np.array(mass) # переводим в numpy\n",
    "        n = len(mass) # длина выборки для обучения\n",
    "        size_forecast = n_forcast*intervals_in_hour\n",
    "        # случайно берем числа до n, размера n_forcast*intervals_in_hour\n",
    "        indexes = np.random.randint(n, size=size_forecast*10000)\n",
    "        change = mass[[indexes]]\n",
    "        change = change.reshape((10000, size_forecast))\n",
    "        # теперь рассомтрим куммулятивное перемножение- предсказанное поведение\n",
    "        cum_change = np.cumprod(change, axis=1)\n",
    "        # минимальное и максимальные значения внутри временного интервалла\n",
    "        min_ = np.min(cum_change, axis=1)\n",
    "        max_ = np.max(cum_change, axis=1)\n",
    "        sorted_res_min = np.sort(min_)\n",
    "        sorted_res_max = np.sort(max_)\n",
    "        high, low = sorted_res_max[9500], sorted_res_min[500]\n",
    "        return np.array([high, low])\n",
    "    \n",
    "    def get_real(self, df):\n",
    "      '''Функция нужна для валидации - возвращает верхние и нижние границы'''\n",
    "      high = df['high'].values.astype(float)\n",
    "      low = df['low'].values.astype(float)\n",
    "      return np.hstack([high, low])\n",
    "    \n",
    "    def calculate_intervals(self):\n",
    "        print('Рассчитываю интерваллы')\n",
    "        dict_res, n_forcast, intervals_in_hour = self.dict_res, self.n_forcast, self.intervals_in_hour\n",
    "        calculated_intervals = np.zeros((len(dict_res), 2))\n",
    "        real_intervals = np.zeros((len(dict_res), n_forcast*intervals_in_hour*2)) # запоминаем  всю динамику  умножение на 2 тк записываем для верха и для низа\n",
    "        k = 0\n",
    "        for key in dict_res:\n",
    "            real_intervals[k, :] = self.get_real(dict_res[key][1])\n",
    "\n",
    "            # требуется для абсолютных значений запомнить цену открытия\n",
    "            last_value = dict_res[key][0]['open'].values.astype(float)[-1]\n",
    "\n",
    "            calculated = self.bootstrap(dict_res[key][0]['change'].values, n_forcast, intervals_in_hour)\n",
    "\n",
    "            calculated_intervals[k, 0:2] = calculated*last_value\n",
    "            k += 1\n",
    "            j = int(len(dict_res)/200)\n",
    "            if k % j == 0:\n",
    "                print('progress = {} %'.format(round(k/len(dict_res)*100, 3)))\n",
    "        self.intervals = calculated_intervals, real_intervals\n",
    "        return\n",
    "\n",
    "    def make_data_for_back(self):\n",
    "        print('Преобразую данные для бэктеста')\n",
    "        intervals, n_forcast, intervals_in_hour = self.intervals, self.n_forcast, self.intervals_in_hour\n",
    "        # mass high, low, start, end\n",
    "#         k_end = n_forcast*intervals_in_hour-1\n",
    "        mass = np.zeros((len(intervals[0]), 4))\n",
    "        for i in range(len(intervals[0])):\n",
    "            # вычислим индекс в словаре с нарезками, чтобы подтянуть реальную цену открытия и закрытия\n",
    "            index_in_dict_res = i+intervals_in_hour*self.n_info\n",
    "            # берем цену open, close \n",
    "            open_price = self.dict_res[index_in_dict_res][1]['open'].values[0]\n",
    "            close_price = self.dict_res[index_in_dict_res][1]['close'].values[-1]\n",
    "            mass[i, :] = *intervals[0][i], open_price, close_price\n",
    "            ###### тут брались цены open,close как high в первую и последнюю 5 минутки \n",
    "#             mass[i, :] = *intervals[0][i] , intervals[1][i][0], intervals[1][i][k_end]\n",
    "    #         intervals[0][i] - high, low\n",
    "        \n",
    "    #         intervals[1][i][0] - start\n",
    "    #         intervals[1][i][k] - end\n",
    "        self.data_for_back = mass\n",
    "        return\n",
    "  \n",
    "    \n",
    "    def get_periodic(self):\n",
    "        data_for_back, n_forcast, intervals_in_hour = self.data_for_back, self.n_forcast, self.intervals_in_hour\n",
    "        '''Просто обрезка, выбор каждого n часового результата'''\n",
    "        self.periodic_data_for_back = data_for_back[::n_forcast*intervals_in_hour, :]\n",
    "        return \n",
    "    \n",
    "    def back_test(self):\n",
    "        '''Функция проводит анализ стратегии, возвращает список прибыли/убытков в каждый период'''\n",
    "        mass_for_back, n_forcast = self.periodic_data_for_back, self.n_forcast\n",
    "        earnings = np.zeros(len(mass_for_back))\n",
    "#         print(ratio_for_hedge, hadge_type)\n",
    "        for i in range(len(mass_for_back)):\n",
    "            high_board, low_board, start_price, end_price = mass_for_back[i, :]\n",
    "\n",
    "            e1 = unforward_earnings(start_price, end_price, high_board, low_board)\n",
    "            # тут есть допущение - хедж для нас не требует блокировку активов - фьючерсы в общем ,причем бесплатные\n",
    "            ratio_for_hedge = calc_ratio(start_price, high_board, low_board)\n",
    "            e2 = simple_hedge(start_price, end_price, ratio_for_hedge)\n",
    "            e3 = persentage_earnings()*n_forcast/24\n",
    "            print('{} день'.format(i))\n",
    "            print('start_price = ',start_price)\n",
    "            print('end_price = ', end_price) \n",
    "            print('high_board = ', high_board)\n",
    "            print('low_board = ', low_board)\n",
    "            print('Непрямые потери/прибыли ',e1)\n",
    "            print('Доход от хеджа ', e2)\n",
    "            print('Процентный заработок ',e3)\n",
    "            earnings[i] = e1+e2+e3\n",
    "        return earnings\n",
    "    \n",
    "    def back_test_alt(self, start_amount, gas_price, verbose, hedge_type):\n",
    "        '''Функция проводит анализ стратегии, возвращает список прибыли/убытков в каждый период'''\n",
    "        mass_for_back, n_forcast = self.periodic_data_for_back, self.n_forcast\n",
    "        earnings = np.zeros(len(mass_for_back))\n",
    "        current_amount = start_amount\n",
    "        for i in range(len(mass_for_back)):\n",
    "            high_board, low_board, start_price, end_price = mass_for_back[i, :]\n",
    "            # Рассчитываем долю эфира в средствах, которые вкладываем в пул\n",
    "            ratio_hedge = calc_ratio(start_price, high_board, low_board)\n",
    "            # Итого all_money = eth_pool+usd_pool+usd_hedge, eth_pool=usd_hedge\n",
    "            # ratio_hedge = eth_pool/(eth_pool+usd_pool)\n",
    "            # требуется расщепить current_amount на эти части:\n",
    "            # То есть решить эти два уравнения:\n",
    "            # current_amount = usd_pool+2*eth_pool\n",
    "            # ratio_hedge = eth_pool/(eth_pool+usd_pool)\n",
    "            ###### решаем... #####\n",
    "            # usd_pool = (current_amount - 2*eth_pool)\n",
    "            # ##### подставляем\n",
    "            # ratio_hedge = eth_pool/(eth_pool+(current_amount - 2*eth_pool))\n",
    "            # #####\n",
    "            # ratio_hedge = eth_pool/(current_amount - eth_pool)\n",
    "            # #####\n",
    "            # ratio_hedge*(current_amount - eth_pool)  = eth_pool\n",
    "            # ####\n",
    "            # ratio_hedge*current_amount  = eth_pool+ratio_hedge*eth_pool\n",
    "            # #####\n",
    "            # eth_pool = ratio_hedge*current_amount/(1+ratio_hedge) \n",
    "            # -> usd_pool = current_amount - 2*eth_pool\n",
    "\n",
    "            eth_pool = ratio_hedge*current_amount/(1+ratio_hedge)\n",
    "            usd_pool = current_amount - 2*eth_pool\n",
    "            usd_hedge = eth_pool\n",
    "\n",
    "            # Получим непрямые прибыли/убытки от пула в процентах\n",
    "            e1 = unforward_earnings(start_price, end_price, high_board, low_board)\n",
    "            e1 = e1/100*(eth_pool+usd_pool) # переведем в деньги: прибыль\n",
    "\n",
    "            # получим прибыль/убыток от хеджа\n",
    "            if hedge_type == 'simple':\n",
    "                e2 = simple_hedge(start_price, end_price, ratio_hedge)\n",
    "                # небольшой костыль, чтобы вернуться просто к процентам от хеджа\n",
    "                e2 = e2/(100*ratio_hedge)\n",
    "                e2 = usd_hedge*e2  # переведем в доллары\n",
    "                \n",
    "            elif hedge_type == 'dynamic':\n",
    "                # изначально отправляем деньги как на статический, затем испоьзуем магию\n",
    "                e2 = dynamic_hedge(eth_pool, usd_pool, high_board,\n",
    "                                   low_board, start_price, end_price, i, self.dict_res, n_forcast,\n",
    "                                   self.intervals_in_hour, self.n_info)\n",
    "            # получим прибыль от стейкинга\n",
    "            # Учтем размер интервалла - считаем, что константа задает нам значение для 200 пунктов цены\n",
    "            # при стоимости в районе 1200  - 0.16\n",
    "            koef = (high_board - low_board)/start_price\n",
    "            e3 = persentage_earnings()*n_forcast/24\n",
    "            e3 = e3*0.16/koef\n",
    "            \n",
    "            \n",
    "            e3 = e3/100 # уход от %\n",
    "            e3 = (eth_pool+usd_pool)*e3# переведем в деньги\n",
    "            # суммируем прибыли и изначальную сумму\n",
    "            earn = e1 + e2 + e3 + current_amount - gas_price*2\n",
    "            \n",
    "            if verbose == True:\n",
    "                print('{} день'.format(i))\n",
    "                print('start_price = ',start_price)\n",
    "                print('end_price = ', end_price) \n",
    "                print('high_board = ', high_board)\n",
    "                print('low_board = ', low_board)\n",
    "                print('Выделяем {} на usd_pool'.format(usd_pool))\n",
    "                print('Выделяем {} на usd_hedge'.format(usd_hedge))\n",
    "                print('Выделяем {} на eth_pool'.format(eth_pool))\n",
    "                print('Непрямые потери/прибыли ', e1)\n",
    "                print('Доход от хеджа ', e2)\n",
    "                print('Процентный заработок ',e3)\n",
    "                print()\n",
    "            earnings[i] = earn\n",
    "            # переопределяем старт на след день\n",
    "            current_amount = earn\n",
    "        return earnings\n",
    "    \n",
    "    def plot_results(self):\n",
    "        fig = plt.figure(figsize = (10, 10))\n",
    "        mass_for_back = self.periodic_data_for_back\n",
    "        x = self.dates\n",
    "        earnings = self.back_test()\n",
    "        y = np.cumsum(earnings)\n",
    "        plt.plot(x, y, label='Хеджируем эфир')\n",
    "        plt.xlabel('Дата бектеста', fontsize=15)\n",
    "        plt.ylabel('Доходность в %', fontsize=15)\n",
    "        plt.xticks(fontsize = (20/len(x)+3), rotation=45)\n",
    "        plt.title('Анализ итоговой доходности', fontsize = 15)\n",
    "        plt.legend(prop={'size': 10})\n",
    "        \n",
    "    def plot_results_alt(self, start_amount, gas_price, verbose, hedge_type):\n",
    "        '''Альтернативный рассчет, более строгий\n",
    "        Здесь каждый раз капитал разбивается на несколько частей\n",
    "        Часть уходит в хедж, часть в пул. Затем все суммируется и новая сумма идет в след день'''\n",
    "        fig = plt.figure(figsize = (10, 10))\n",
    "        mass_for_back = self.periodic_data_for_back\n",
    "        x = self.dates\n",
    "        \n",
    "        earnings_alt = self.back_test_alt(start_amount, gas_price, verbose, hedge_type) \n",
    "        y = earnings_alt\n",
    "        \n",
    "        \n",
    "        plt.plot(x, y, label='Хеджируем эфир')\n",
    "        plt.xlabel('Дата бектеста', fontsize=15)\n",
    "        plt.ylabel('Всего средств', fontsize=15)\n",
    "        plt.xticks(fontsize = (20/len(x)+3), rotation=45)\n",
    "        plt.title('Анализ итоговой доходности старт с {} $'.format(start_amount), fontsize = 15)\n",
    "        plt.legend(prop={'size': 10})\n",
    "        \n",
    "    def plot_price(self):\n",
    "        # Просто отрисовка того, как изменялся курс, чтобы интерпретировать прибыли и убытки в стратегии\n",
    "        mass_for_back = self.periodic_data_for_back\n",
    "        fig = plt.figure(figsize = (10, 10))\n",
    "        plt.plot(self.dates, mass_for_back[:, 3])\n",
    "        plt.xticks(fontsize = (20/len(self.dates)+3), rotation=45)\n",
    "        plt.title('Курс ETH/USDT')\n",
    "        \n",
    "    def change_price_distr(self):\n",
    "        mass_for_back = self.periodic_data_for_back\n",
    "        change = np.zeros(len(mass_for_back))\n",
    "        starts = mass_for_back[:, 2]\n",
    "        ends = mass_for_back[:, 3]\n",
    "        for i in range(len(change)):\n",
    "            end = ends[i]\n",
    "            start = starts[i]\n",
    "            res = (end - start)/start*100 # итог в процентах +10% или -0.5%\n",
    "            change[i] = res\n",
    "        fig = plt.figure(figsize = (10, 10))\n",
    "        plt.xlabel('Изменение стоимости в %', fontsize=15)\n",
    "        plt.hist(change, bins=15)\n",
    "        plt.show()\n"
   ]
  },
  {
   "cell_type": "markdown",
   "id": "6e4f5805",
   "metadata": {},
   "source": [
    "### Следующая строчка посчитает все интерваллы, минут 30 будет считать для 3х месяцев"
   ]
  },
  {
   "cell_type": "code",
   "execution_count": 677,
   "id": "ab7134ae",
   "metadata": {},
   "outputs": [
    {
     "name": "stdout",
     "output_type": "stream",
     "text": [
      "Добавляю относительные изменения\n",
      "Создаю разбивку - данные для рассчета интервала и теста\n",
      "Рассчитываю интерваллы\n"
     ]
    },
    {
     "name": "stderr",
     "output_type": "stream",
     "text": [
      "<ipython-input-676-52b82a1634c1>:52: NumbaWarning: \u001b[1m\n",
      "Compilation is falling back to object mode WITH looplifting enabled because Function \"bootstrap\" failed type inference due to: \u001b[1m\u001b[1mnon-precise type pyobject\u001b[0m\n",
      "\u001b[0m\u001b[1mDuring: typing of argument at <ipython-input-676-52b82a1634c1> (56)\u001b[0m\n",
      "\u001b[1m\n",
      "File \"<ipython-input-676-52b82a1634c1>\", line 56:\u001b[0m\n",
      "\u001b[1m    def bootstrap(self, mass, n_forcast, intervals_in_hour):\n",
      "        <source elided>\n",
      "        процедура повторяется 10000 раз, в резульатате мы перемножеаем значения и выдаем прогноз в каждой точке таким образом (10000 симуляций)'''\n",
      "\u001b[1m        mass_res = np.zeros((10000, 2)) # 2 - нижняя и верхняя границы для каждой симуляции\n",
      "\u001b[0m        \u001b[1m^\u001b[0m\u001b[0m\n",
      "\u001b[0m\n",
      "  @jit\n",
      "/Users/vladislav705/opt/anaconda3/lib/python3.8/site-packages/numba/core/object_mode_passes.py:151: NumbaWarning: \u001b[1mFunction \"bootstrap\" was compiled in object mode without forceobj=True.\n",
      "\u001b[1m\n",
      "File \"<ipython-input-676-52b82a1634c1>\", line 53:\u001b[0m\n",
      "\u001b[1m    @jit\n",
      "\u001b[1m    def bootstrap(self, mass, n_forcast, intervals_in_hour):\n",
      "\u001b[0m    \u001b[1m^\u001b[0m\u001b[0m\n",
      "\u001b[0m\n",
      "  warnings.warn(errors.NumbaWarning(warn_msg,\n",
      "/Users/vladislav705/opt/anaconda3/lib/python3.8/site-packages/numba/core/object_mode_passes.py:161: NumbaDeprecationWarning: \u001b[1m\n",
      "Fall-back from the nopython compilation path to the object mode compilation path has been detected, this is deprecated behaviour.\n",
      "\n",
      "For more information visit https://numba.pydata.org/numba-doc/latest/reference/deprecation.html#deprecation-of-object-mode-fall-back-behaviour-when-using-jit\n",
      "\u001b[1m\n",
      "File \"<ipython-input-676-52b82a1634c1>\", line 53:\u001b[0m\n",
      "\u001b[1m    @jit\n",
      "\u001b[1m    def bootstrap(self, mass, n_forcast, intervals_in_hour):\n",
      "\u001b[0m    \u001b[1m^\u001b[0m\u001b[0m\n",
      "\u001b[0m\n",
      "  warnings.warn(errors.NumbaDeprecationWarning(msg,\n",
      "<ipython-input-676-52b82a1634c1>:92: FutureWarning: Using a non-tuple sequence for multidimensional indexing is deprecated; use `arr[tuple(seq)]` instead of `arr[seq]`. In the future this will be interpreted as an array index, `arr[np.array(seq)]`, which will result either in an error or a different result.\n",
      "  calculated = self.bootstrap(dict_res[key][0]['change'].values, n_forcast, intervals_in_hour)\n"
     ]
    },
    {
     "name": "stdout",
     "output_type": "stream",
     "text": [
      "progress = 0.496 %\n",
      "progress = 0.992 %\n",
      "progress = 1.488 %\n",
      "progress = 1.984 %\n",
      "progress = 2.48 %\n",
      "progress = 2.976 %\n",
      "progress = 3.472 %\n",
      "progress = 3.968 %\n",
      "progress = 4.464 %\n",
      "progress = 4.96 %\n",
      "progress = 5.456 %\n",
      "progress = 5.952 %\n",
      "progress = 6.448 %\n",
      "progress = 6.944 %\n",
      "progress = 7.44 %\n",
      "progress = 7.936 %\n",
      "progress = 8.431 %\n",
      "progress = 8.927 %\n",
      "progress = 9.423 %\n",
      "progress = 9.919 %\n",
      "progress = 10.415 %\n",
      "progress = 10.911 %\n",
      "progress = 11.407 %\n",
      "progress = 11.903 %\n",
      "progress = 12.399 %\n",
      "progress = 12.895 %\n",
      "progress = 13.391 %\n",
      "progress = 13.887 %\n",
      "progress = 14.383 %\n",
      "progress = 14.879 %\n",
      "progress = 15.375 %\n",
      "progress = 15.871 %\n",
      "progress = 16.367 %\n",
      "progress = 16.863 %\n",
      "progress = 17.359 %\n",
      "progress = 17.855 %\n",
      "progress = 18.351 %\n",
      "progress = 18.847 %\n",
      "progress = 19.343 %\n",
      "progress = 19.839 %\n",
      "progress = 20.335 %\n",
      "progress = 20.831 %\n",
      "progress = 21.327 %\n",
      "progress = 21.823 %\n",
      "progress = 22.319 %\n",
      "progress = 22.815 %\n",
      "progress = 23.311 %\n",
      "progress = 23.807 %\n",
      "progress = 24.303 %\n",
      "progress = 24.799 %\n",
      "progress = 25.294 %\n",
      "progress = 25.79 %\n",
      "progress = 26.286 %\n",
      "progress = 26.782 %\n",
      "progress = 27.278 %\n",
      "progress = 27.774 %\n",
      "progress = 28.27 %\n",
      "progress = 28.766 %\n",
      "progress = 29.262 %\n",
      "progress = 29.758 %\n",
      "progress = 30.254 %\n",
      "progress = 30.75 %\n",
      "progress = 31.246 %\n",
      "progress = 31.742 %\n",
      "progress = 32.238 %\n",
      "progress = 32.734 %\n",
      "progress = 33.23 %\n",
      "progress = 33.726 %\n",
      "progress = 34.222 %\n",
      "progress = 34.718 %\n",
      "progress = 35.214 %\n",
      "progress = 35.71 %\n",
      "progress = 36.206 %\n",
      "progress = 36.702 %\n",
      "progress = 37.198 %\n",
      "progress = 37.694 %\n",
      "progress = 38.19 %\n",
      "progress = 38.686 %\n",
      "progress = 39.182 %\n",
      "progress = 39.678 %\n",
      "progress = 40.174 %\n",
      "progress = 40.67 %\n",
      "progress = 41.166 %\n",
      "progress = 41.662 %\n",
      "progress = 42.157 %\n",
      "progress = 42.653 %\n",
      "progress = 43.149 %\n",
      "progress = 43.645 %\n",
      "progress = 44.141 %\n",
      "progress = 44.637 %\n",
      "progress = 45.133 %\n",
      "progress = 45.629 %\n",
      "progress = 46.125 %\n",
      "progress = 46.621 %\n",
      "progress = 47.117 %\n",
      "progress = 47.613 %\n",
      "progress = 48.109 %\n",
      "progress = 48.605 %\n",
      "progress = 49.101 %\n",
      "progress = 49.597 %\n",
      "progress = 50.093 %\n",
      "progress = 50.589 %\n",
      "progress = 51.085 %\n",
      "progress = 51.581 %\n",
      "progress = 52.077 %\n",
      "progress = 52.573 %\n",
      "progress = 53.069 %\n",
      "progress = 53.565 %\n",
      "progress = 54.061 %\n",
      "progress = 54.557 %\n",
      "progress = 55.053 %\n",
      "progress = 55.549 %\n",
      "progress = 56.045 %\n",
      "progress = 56.541 %\n",
      "progress = 57.037 %\n",
      "progress = 57.533 %\n",
      "progress = 58.029 %\n",
      "progress = 58.524 %\n",
      "progress = 59.02 %\n",
      "progress = 59.516 %\n",
      "progress = 60.012 %\n",
      "progress = 60.508 %\n",
      "progress = 61.004 %\n",
      "progress = 61.5 %\n",
      "progress = 61.996 %\n",
      "progress = 62.492 %\n",
      "progress = 62.988 %\n",
      "progress = 63.484 %\n",
      "progress = 63.98 %\n",
      "progress = 64.476 %\n",
      "progress = 64.972 %\n",
      "progress = 65.468 %\n",
      "progress = 65.964 %\n",
      "progress = 66.46 %\n",
      "progress = 66.956 %\n",
      "progress = 67.452 %\n",
      "progress = 67.948 %\n",
      "progress = 68.444 %\n",
      "progress = 68.94 %\n",
      "progress = 69.436 %\n",
      "progress = 69.932 %\n",
      "progress = 70.428 %\n",
      "progress = 70.924 %\n",
      "progress = 71.42 %\n",
      "progress = 71.916 %\n",
      "progress = 72.412 %\n",
      "progress = 72.908 %\n",
      "progress = 73.404 %\n",
      "progress = 73.9 %\n",
      "progress = 74.396 %\n",
      "progress = 74.892 %\n",
      "progress = 75.387 %\n",
      "progress = 75.883 %\n",
      "progress = 76.379 %\n",
      "progress = 76.875 %\n",
      "progress = 77.371 %\n",
      "progress = 77.867 %\n",
      "progress = 78.363 %\n",
      "progress = 78.859 %\n",
      "progress = 79.355 %\n",
      "progress = 79.851 %\n",
      "progress = 80.347 %\n",
      "progress = 80.843 %\n",
      "progress = 81.339 %\n",
      "progress = 81.835 %\n",
      "progress = 82.331 %\n",
      "progress = 82.827 %\n",
      "progress = 83.323 %\n",
      "progress = 83.819 %\n",
      "progress = 84.315 %\n",
      "progress = 84.811 %\n",
      "progress = 85.307 %\n",
      "progress = 85.803 %\n",
      "progress = 86.299 %\n",
      "progress = 86.795 %\n",
      "progress = 87.291 %\n",
      "progress = 87.787 %\n",
      "progress = 88.283 %\n",
      "progress = 88.779 %\n",
      "progress = 89.275 %\n",
      "progress = 89.771 %\n",
      "progress = 90.267 %\n",
      "progress = 90.763 %\n",
      "progress = 91.259 %\n",
      "progress = 91.754 %\n",
      "progress = 92.25 %\n",
      "progress = 92.746 %\n",
      "progress = 93.242 %\n",
      "progress = 93.738 %\n",
      "progress = 94.234 %\n",
      "progress = 94.73 %\n",
      "progress = 95.226 %\n",
      "progress = 95.722 %\n",
      "progress = 96.218 %\n",
      "progress = 96.714 %\n",
      "progress = 97.21 %\n",
      "progress = 97.706 %\n",
      "progress = 98.202 %\n",
      "progress = 98.698 %\n",
      "progress = 99.194 %\n",
      "progress = 99.69 %\n",
      "Преобразую данные для бэктеста\n"
     ]
    }
   ],
   "source": [
    "back_test_obj = Interval_calculator(df, n_info, n_forcast, intervals_in_hour)"
   ]
  },
  {
   "cell_type": "code",
   "execution_count": null,
   "id": "2e8124d0",
   "metadata": {},
   "outputs": [],
   "source": []
  },
  {
   "cell_type": "markdown",
   "id": "2d223385",
   "metadata": {},
   "source": [
    "### Поведение при бесплатных фьючерсах(не реальная ситуация, представлена для сравнения)"
   ]
  },
  {
   "cell_type": "code",
   "execution_count": 686,
   "id": "33807100",
   "metadata": {
    "scrolled": true
   },
   "outputs": [
    {
     "name": "stdout",
     "output_type": "stream",
     "text": [
      "0 день\n",
      "start_price =  3040.57\n",
      "end_price =  3059.3\n",
      "high_board =  3196.9318170314978\n",
      "low_board =  2933.4381866019507\n",
      "Непрямые потери/прибыли  0.3436533492241711\n",
      "Доход от хеджа  -0.3655471131877349\n",
      "Процентный заработок  0.6\n",
      "1 день\n",
      "start_price =  3059.3\n",
      "end_price =  2988.06\n",
      "high_board =  3173.8416217425447\n",
      "low_board =  2981.616821111509\n",
      "Непрямые потери/прибыли  -1.8241615084585105\n",
      "Доход от хеджа  1.3875727194210568\n",
      "Процентный заработок  0.6\n",
      "2 день\n",
      "start_price =  2988.07\n",
      "end_price =  3055.56\n",
      "high_board =  3065.9517273994484\n",
      "low_board =  2802.5839302699746\n",
      "Непрямые потери/прибыли  0.37851763515071024\n",
      "Доход от хеджа  -0.6679155663240289\n",
      "Процентный заработок  0.6\n",
      "3 день\n",
      "start_price =  3055.56\n",
      "end_price =  3101.77\n",
      "high_board =  3343.9677592318576\n",
      "low_board =  2901.8639019530506\n",
      "Непрямые потери/прибыли  0.9075333954042808\n",
      "Доход от хеджа  -0.9865697354767682\n",
      "Процентный заработок  0.6\n",
      "4 день\n",
      "start_price =  3101.74\n",
      "end_price =  3076.04\n",
      "high_board =  3295.9331402937923\n",
      "low_board =  3002.1292790005486\n",
      "Непрямые потери/прибыли  -0.584040812525366\n",
      "Доход от хеджа  0.5476512940241294\n",
      "Процентный заработок  0.6\n",
      "5 день\n",
      "start_price =  3076.03\n",
      "end_price =  2983.58\n",
      "high_board =  3223.0236948749143\n",
      "low_board =  2886.3761821606477\n",
      "Непрямые потери/прибыли  -1.7313001295494956\n",
      "Доход от хеджа  1.3123196907209471\n",
      "Процентный заработок  0.6\n",
      "6 день\n",
      "start_price =  2983.57\n",
      "end_price =  2962.39\n",
      "high_board =  3099.9003988527343\n",
      "low_board =  2740.604288100475\n",
      "Непрямые потери/прибыли  -0.25084052160785353\n",
      "Доход от хеджа  0.2298425467140443\n",
      "Процентный заработок  0.6\n",
      "7 день\n",
      "start_price =  2962.39\n",
      "end_price =  2933.03\n",
      "high_board =  3131.110749738681\n",
      "low_board =  2784.208263889908\n",
      "Непрямые потери/прибыли  -0.524180185083778\n",
      "Доход от хеджа  0.4820309264570768\n",
      "Процентный заработок  0.6\n",
      "8 день\n",
      "start_price =  2933.04\n",
      "end_price =  2921.0\n",
      "high_board =  3013.5717362213486\n",
      "low_board =  2800.8524050654696\n",
      "Непрямые потери/прибыли  -0.1670472953630764\n",
      "Доход от хеджа  0.15540629428489555\n",
      "Процентный заработок  0.6\n",
      "9 день\n",
      "start_price =  2920.99\n",
      "end_price =  3006.62\n",
      "high_board =  3027.539865174067\n",
      "low_board =  2795.373643980789\n",
      "Непрямые потери/прибыли  0.8047739545180788\n",
      "Доход от хеджа  -1.3453948025984404\n",
      "Процентный заработок  0.6\n",
      "10 день\n",
      "start_price =  3006.63\n",
      "end_price =  2809.67\n",
      "high_board =  3314.7617036034303\n",
      "low_board =  2871.3979670677427\n",
      "Непрямые потери/прибыли  -5.8950993500455855\n",
      "Доход от хеджа  4.552754848985866\n",
      "Процентный заработок  0.6\n",
      "11 день\n",
      "start_price =  2809.68\n",
      "end_price =  2888.96\n",
      "high_board =  2875.046758292864\n",
      "low_board =  2441.7663129026346\n",
      "Непрямые потери/прибыли  0.1754922534168868\n",
      "Доход от хеджа  -0.4256911682404627\n",
      "Процентный заработок  0.6\n",
      "12 день\n",
      "start_price =  2888.95\n",
      "end_price =  2936.93\n",
      "high_board =  3171.6717185002053\n",
      "low_board =  2766.5420657179147\n",
      "Непрямые потери/прибыли  1.0606591906944907\n",
      "Доход от хеджа  -1.1590051303893263\n",
      "Процентный заработок  0.6\n",
      "13 день\n",
      "start_price =  2936.92\n",
      "end_price =  2817.13\n",
      "high_board =  3193.8392254476453\n",
      "low_board =  2776.5417962102274\n",
      "Непрямые потери/прибыли  -3.1088040805685946\n",
      "Доход от хеджа  2.5111886683585474\n",
      "Процентный заработок  0.6\n",
      "14 день\n",
      "start_price =  2817.13\n",
      "end_price =  2726.66\n",
      "high_board =  2899.329657905318\n",
      "low_board =  2553.92106192132\n",
      "Непрямые потери/прибыли  -1.1916826572724082\n",
      "Доход от хеджа  0.7642484569152644\n",
      "Процентный заработок  0.6\n",
      "15 день\n",
      "start_price =  2726.67\n",
      "end_price =  2824.81\n",
      "high_board =  2807.6539200357856\n",
      "low_board =  2515.5620677417883\n",
      "Непрямые потери/прибыли  0.4117329004817538\n",
      "Доход от хеджа  -0.9979133347811016\n",
      "Процентный заработок  0.6\n",
      "16 день\n",
      "start_price =  2824.81\n",
      "end_price =  2856.54\n",
      "high_board =  3094.829549419003\n",
      "low_board =  2745.4707226445757\n",
      "Непрямые потери/прибыли  0.8171598080217057\n",
      "Доход от хеджа  -0.8681690871548163\n",
      "Процентный заработок  0.6\n",
      "17 день\n",
      "start_price =  2856.54\n",
      "end_price =  2781.7\n",
      "high_board =  3053.4115856121325\n",
      "low_board =  2720.091734186523\n",
      "Непрямые потери/прибыли  -1.8454773262238877\n",
      "Доход от хеджа  1.5474453793737748\n",
      "Процентный заработок  0.6\n",
      "18 день\n",
      "start_price =  2781.7\n",
      "end_price =  2940.64\n",
      "high_board =  2860.431351848992\n",
      "low_board =  2589.2928296117584\n",
      "Непрямые потери/прибыли  0.4109262700797922\n",
      "Доход от хеджа  -1.6591261253014449\n",
      "Процентный заработок  0.6\n",
      "19 день\n",
      "start_price =  2940.65\n",
      "end_price =  2747.97\n",
      "high_board =  3301.575021125527\n",
      "low_board =  2864.135549697063\n",
      "Непрямые потери/прибыли  -6.3368404154376945\n",
      "Доход от хеджа  5.406202671528232\n",
      "Процентный заработок  0.6\n",
      "20 день\n",
      "start_price =  2747.96\n",
      "end_price =  2692.85\n",
      "high_board =  2821.6479044597063\n",
      "low_board =  2402.1275386253183\n",
      "Непрямые потери/прибыли  -0.48531885008662456\n",
      "Доход от хеджа  0.3522598629333235\n",
      "Процентный заработок  0.6\n",
      "21 день\n",
      "start_price =  2692.86\n",
      "end_price =  2635.34\n",
      "high_board =  2864.795234716313\n",
      "low_board =  2452.3980317402666\n",
      "Непрямые потери/прибыли  -1.0411128000067604\n",
      "Доход от хеджа  0.8905417338776316\n",
      "Процентный заработок  0.6\n",
      "22 день\n",
      "start_price =  2635.35\n",
      "end_price =  2519.71\n",
      "high_board =  2731.4178543382823\n",
      "low_board =  2459.8527331407918\n",
      "Непрямые потери/прибыли  -2.5075247492689856\n",
      "Доход от хеджа  1.5522936537879353\n",
      "Процентный заработок  0.6\n",
      "23 день\n",
      "start_price =  2519.71\n",
      "end_price =  2228.55\n",
      "high_board =  2606.8934478579463\n",
      "low_board =  2237.4029154842583\n",
      "Непрямые потери/прибыли  -7.545074305855682\n",
      "Доход от хеджа  2.7265400194106513\n",
      "Процентный заработок  0.6\n",
      "24 день\n",
      "start_price =  2229.0\n",
      "end_price =  2342.05\n",
      "high_board =  2413.441395794749\n",
      "low_board =  1783.247804642559\n",
      "Непрямые потери/прибыли  1.029467712071841\n",
      "Доход от хеджа  -1.4843793914020715\n",
      "Процентный заработок  0.6\n",
      "25 день\n",
      "start_price =  2342.04\n",
      "end_price =  2084.99\n",
      "high_board =  2790.799083728274\n",
      "low_board =  2105.0184694219415\n",
      "Непрямые потери/прибыли  -9.335537159630913\n",
      "Доход от хеджа  7.182098356613622\n",
      "Процентный заработок  0.6\n",
      "26 день\n",
      "start_price =  2084.99\n",
      "end_price =  1960.22\n",
      "high_board =  2402.1710540645586\n",
      "low_board =  1470.2049487137228\n",
      "Непрямые потери/прибыли  -2.4495681341434095\n",
      "Доход от хеджа  2.0366355441226194\n",
      "Процентный заработок  0.6\n",
      "27 день\n",
      "start_price =  1960.22\n",
      "end_price =  2009.69\n",
      "high_board =  2480.3903765469063\n",
      "low_board =  1437.4827636504974\n",
      "Непрямые потери/прибыли  1.198887054835196\n",
      "Доход от хеджа  -1.2587424319542664\n",
      "Процентный заработок  0.6\n",
      "28 день\n",
      "start_price =  2009.69\n",
      "end_price =  2056.48\n",
      "high_board =  2346.2251336675054\n",
      "low_board =  1785.7996137075713\n",
      "Непрямые потери/прибыли  1.3009026635014909\n",
      "Доход от хеджа  -1.398094350354789\n",
      "Процентный заработок  0.6\n"
     ]
    },
    {
     "data": {
      "image/png": "[encoded data removed]",
      "text/plain": [
       "<Figure size 720x720 with 1 Axes>"
      ]
     },
     "metadata": {
      "needs_background": "light"
     },
     "output_type": "display_data"
    }
   ],
   "source": [
    "back_test_obj.plot_results()"
   ]
  },
  {
   "cell_type": "markdown",
   "id": "6c04933a",
   "metadata": {},
   "source": [
    "##### Статическое хеджирование (самый простой способ, честный)"
   ]
  },
  {
   "cell_type": "code",
   "execution_count": 687,
   "id": "a339a8a2",
   "metadata": {
    "scrolled": false
   },
   "outputs": [
    {
     "data": {
      "image/png": "[encoded data removed]",
      "text/plain": [
       "<Figure size 720x720 with 1 Axes>"
      ]
     },
     "metadata": {
      "needs_background": "light"
     },
     "output_type": "display_data"
    }
   ],
   "source": [
    "start_amount = 1000000\n",
    "gas_price = 10  # за одну операцию, внутри умножение на 2\n",
    "back_test_obj.plot_results_alt(start_amount = start_amount, gas_price = gas_price, verbose=False, hedge_type='simple')"
   ]
  },
  {
   "cell_type": "markdown",
   "id": "588b859e",
   "metadata": {},
   "source": [
    "#### Используем динамический хедж"
   ]
  },
  {
   "cell_type": "code",
   "execution_count": 688,
   "id": "73839d02",
   "metadata": {},
   "outputs": [
    {
     "data": {
      "image/png": "[encoded data removed]",
      "text/plain": [
       "<Figure size 720x720 with 1 Axes>"
      ]
     },
     "metadata": {
      "needs_background": "light"
     },
     "output_type": "display_data"
    }
   ],
   "source": [
    "start_amount = 1000000\n",
    "gas_price = 10 # за одну операцию, внутри умножение на 2\n",
    "back_test_obj.plot_results_alt(start_amount = start_amount, gas_price = gas_price, verbose=False, hedge_type='dynamic')"
   ]
  },
  {
   "cell_type": "markdown",
   "id": "4317e9ac",
   "metadata": {},
   "source": [
    "### Рассмотрим как изменялся курс ETH/USDT"
   ]
  },
  {
   "cell_type": "code",
   "execution_count": 681,
   "id": "ff63124f",
   "metadata": {},
   "outputs": [
    {
     "data": {
      "image/png": "[encoded data removed]",
      "text/plain": [
       "<Figure size 720x720 with 1 Axes>"
      ]
     },
     "metadata": {
      "needs_background": "light"
     },
     "output_type": "display_data"
    }
   ],
   "source": [
    "back_test_obj.plot_price()"
   ]
  },
  {
   "cell_type": "markdown",
   "id": "b95548cc",
   "metadata": {},
   "source": [
    "### Дополнительно проверим как распределены изменения в стоимости (после 24 часов)¶\n"
   ]
  },
  {
   "cell_type": "code",
   "execution_count": 611,
   "id": "58bbc843",
   "metadata": {},
   "outputs": [
    {
     "data": {
      "image/png": "[encoded data removed]",
      "text/plain": [
       "<Figure size 720x720 with 1 Axes>"
      ]
     },
     "metadata": {
      "needs_background": "light"
     },
     "output_type": "display_data"
    }
   ],
   "source": [
    "back_test_obj.change_price_distr()"
   ]
  },
  {
   "cell_type": "markdown",
   "id": "bf444d0c",
   "metadata": {},
   "source": []
  },
  {
   "cell_type": "markdown",
   "id": "28034519",
   "metadata": {},
   "source": [
    "#### Рассмотрим как распределены изменения цены более детально. Больше точек в n_forecast*interval_in_hour раз // Тут за 25 часов мы получаем очень много точек, старт в 5 минуту, в 10ю минуту, все эти старты приносят нам по одной точке. Вверху мы просто смотрели одну точку за 24 часа, 2 точки за 48 часов."
   ]
  },
  {
   "cell_type": "code",
   "execution_count": 609,
   "id": "5b87391e",
   "metadata": {},
   "outputs": [],
   "source": [
    "def make_diff(df, int_in_h, n_forcast):\n",
    "    res = np.zeros(len(df)-n_forcast*int_in_h)\n",
    "    opens = df['open'].values.astype(float)\n",
    "    closes = df['close'].values.astype(float)\n",
    "    for i in range(len(res)):\n",
    "        start = opens[i]\n",
    "        end = closes[i+n_forcast*int_in_h-1]\n",
    "        res[i] = (end-start)/start*100\n",
    "    return res"
   ]
  },
  {
   "cell_type": "code",
   "execution_count": 610,
   "id": "17dc81b9",
   "metadata": {},
   "outputs": [
    {
     "data": {
      "image/png": "[encoded data removed]",
      "text/plain": [
       "<Figure size 432x288 with 1 Axes>"
      ]
     },
     "metadata": {
      "needs_background": "light"
     },
     "output_type": "display_data"
    }
   ],
   "source": [
    "plt.hist(make_diff(df, 12, 24), bins=15)\n",
    "plt.show()"
   ]
  },
  {
   "cell_type": "code",
   "execution_count": 613,
   "id": "9635f5df",
   "metadata": {},
   "outputs": [
    {
     "data": {
      "image/png": "[encoded data removed]",
      "text/plain": [
       "<Figure size 432x288 with 1 Axes>"
      ]
     },
     "metadata": {
      "needs_background": "light"
     },
     "output_type": "display_data"
    }
   ],
   "source": [
    "# тоже самое только другим способом\n",
    "plt.plot(make_diff(df, 12, 24))\n",
    "plt.show()"
   ]
  },
  {
   "cell_type": "markdown",
   "id": "7094057b",
   "metadata": {},
   "source": [
    "#### Вывод - за 24 часа изменения цены редко превышают 20%, на годовом промежутке было 30%. Предварительно плечо до 3х полностью безопасно"
   ]
  },
  {
   "cell_type": "markdown",
   "id": "26a48e88",
   "metadata": {},
   "source": [
    "# проверка логики работы"
   ]
  },
  {
   "cell_type": "code",
   "execution_count": 169,
   "id": "f39903fa",
   "metadata": {},
   "outputs": [],
   "source": [
    "# Функция для построения кривой\n",
    "def simulate(start_price, end, high_board, low_board, hedge, earnings):\n",
    "    a1 = unforward_earnings(start_price, end, high_board, low_board)\n",
    "    a2 = earnings\n",
    "    a3 = -hedge*(end - start_price)/start_price*100\n",
    "    return a1+a2+a3"
   ]
  },
  {
   "cell_type": "markdown",
   "id": "29cf03b1",
   "metadata": {},
   "source": [
    "### новая схема, проверка симметрии(еще раз проверим, что все симметрично, не смотря на уход части средств в хедж) Спойлер - все симметрично, просто доходность падает пропорционально тому, сколько средств ушло в хедж (они не работают)\n"
   ]
  },
  {
   "cell_type": "code",
   "execution_count": 61,
   "id": "8b4360a5",
   "metadata": {},
   "outputs": [],
   "source": [
    "\n",
    "\n",
    "def new_simulate(current_amount, start_price, end_price, high_board, low_board,  earnings):\n",
    "    ratio_hedge = calc_ratio(start_price, high_board, low_board)\n",
    "    eth_pool = ratio_hedge*current_amount/(1+ratio_hedge)\n",
    "    usd_pool = current_amount - 2*eth_pool\n",
    "    usd_hedge = eth_pool\n",
    "\n",
    "    # Получим непрямые прибыли/убытки от пула в процентах\n",
    "    e1 = unforward_earnings(start_price, end_price, high_board, low_board)\n",
    "    e1 = e1/100*(eth_pool+usd_pool) # переведем в деньги: прибыль\n",
    "\n",
    "    # получим прибыль/убыток от хеджа\n",
    "    e2 = simple_hedge(start_price, end_price, ratio_hedge)\n",
    "    # небольшой костыль, чтобы вернуться просто к процентам от хеджа\n",
    "    e2 = e2/(100*ratio_hedge)\n",
    "    e2 = usd_hedge*e2  # переведем в доллары\n",
    "\n",
    "    # получим прибыль от стейкинга\n",
    "    e3 = earnings\n",
    "    e3 = e3/100 # уход от %\n",
    "    e3 = (eth_pool+usd_pool)*e3# переведем в деньги\n",
    "    # суммируем прибыли и изначальную сумму\n",
    "    earn = e1 + e2 + e3 + current_amount\n",
    "    return (earn-current_amount)/current_amount*100"
   ]
  },
  {
   "cell_type": "markdown",
   "id": "ea101360",
   "metadata": {},
   "source": [
    "### Сравним поведение при широком и узком интервале (доходности заданы как 0.5 и 0.25%)"
   ]
  },
  {
   "cell_type": "code",
   "execution_count": 576,
   "id": "b8edbc3d",
   "metadata": {},
   "outputs": [],
   "source": [
    "current_amount = 10000\n",
    "start_price = 1222\n",
    "high_board_wide = 1340\n",
    "low_board_wide = 1055\n",
    "high_board = 1260\n",
    "low_board = 1195\n",
    "earnings_wide = 0.25\n",
    "earnings = 0.5\n"
   ]
  },
  {
   "cell_type": "code",
   "execution_count": 588,
   "id": "76426d03",
   "metadata": {},
   "outputs": [],
   "source": [
    "end_prises = list(range(1000,1400))\n",
    "list2 = list(map((lambda x: new_simulate(current_amount, start_price, x, high_board, low_board, earnings)), end_prises))\n",
    "list3 = list(map((lambda x: (x-start_price)/start_price*100), end_prises))\n",
    "\n",
    "list5 = list(map((lambda x: new_simulate(current_amount, start_price, x, high_board_wide, low_board_wide, earnings_wide)), end_prises))\n",
    "\n",
    "\n",
    "\n"
   ]
  },
  {
   "cell_type": "code",
   "execution_count": 578,
   "id": "e2b7997f",
   "metadata": {},
   "outputs": [
    {
     "data": {
      "text/plain": [
       "<matplotlib.legend.Legend at 0x7fcbd19c9eb0>"
      ]
     },
     "execution_count": 578,
     "metadata": {},
     "output_type": "execute_result"
    },
    {
     "data": {
      "image/png": "[encoded data removed]",
      "text/plain": [
       "<Figure size 720x720 with 1 Axes>"
      ]
     },
     "metadata": {
      "needs_background": "light"
     },
     "output_type": "display_data"
    }
   ],
   "source": [
    "plt.figure(figsize=(10,10))\n",
    "plt.plot(list3, list2, label='new')\n",
    "plt.plot(list3, list5, label='new_wide')\n",
    "# plt.plot(list3, list4, label='old')\n",
    "plt.plot(list3, list3, label='ladder')\n",
    "plt.plot([0, 0], [-20, 20], c='black')\n",
    "plt.plot([-20, 20], [0, 0], c='black')\n",
    "plt.xlabel('изменение цены в %', fontsize=15)\n",
    "plt.ylabel('доходность в %', fontsize=15)\n",
    "plt.ylim([-10, 10])\n",
    "plt.xlim([-20, 20])\n",
    "plt.legend(prop={'size':15})"
   ]
  },
  {
   "cell_type": "markdown",
   "id": "bd686b2f",
   "metadata": {},
   "source": [
    "#### Вывод - широкий интервалл более вытянутый, но не такой доходный в горбе, ожидаемый результат"
   ]
  },
  {
   "cell_type": "markdown",
   "id": "509a9662",
   "metadata": {},
   "source": [
    "#### Сравним с тем, что было раньше - когда фьючерсы были бесплатные"
   ]
  },
  {
   "cell_type": "code",
   "execution_count": 606,
   "id": "fa567e94",
   "metadata": {},
   "outputs": [],
   "source": [
    "# тут требуется вводить хедж\n",
    "hedge = 0.57"
   ]
  },
  {
   "cell_type": "code",
   "execution_count": 607,
   "id": "4b5fed8e",
   "metadata": {},
   "outputs": [],
   "source": [
    "list4 = list(map((lambda x: simulate(start_price, x, high_board, low_board, hedge, earnings)), end_prises))"
   ]
  },
  {
   "cell_type": "code",
   "execution_count": 608,
   "id": "2f8a2ed8",
   "metadata": {},
   "outputs": [
    {
     "data": {
      "text/plain": [
       "<matplotlib.legend.Legend at 0x7fcc36209e20>"
      ]
     },
     "execution_count": 608,
     "metadata": {},
     "output_type": "execute_result"
    },
    {
     "data": {
      "image/png": "[encoded data removed]",
      "text/plain": [
       "<Figure size 720x720 with 1 Axes>"
      ]
     },
     "metadata": {
      "needs_background": "light"
     },
     "output_type": "display_data"
    }
   ],
   "source": [
    "plt.figure(figsize=(10,10))\n",
    "plt.plot(list3, list2, label='new')\n",
    "plt.plot(list3, list4, label='old')\n",
    "plt.plot(list3, list3, label='ladder')\n",
    "plt.plot([0, 0], [-20, 20], c='black')\n",
    "plt.plot([-20, 20], [0, 0], c='black')\n",
    "plt.xlabel('изменение цены в %', fontsize=15)\n",
    "plt.ylabel('доходность в %', fontsize=15)\n",
    "plt.ylim([-10, 10])\n",
    "plt.xlim([-20, 20])\n",
    "plt.legend(prop={'size':15})"
   ]
  },
  {
   "cell_type": "markdown",
   "id": "0dafccef",
   "metadata": {},
   "source": [
    "##### Вывод, бесплатные фьючерсы конечно приносят большую дохоность при низкой волотильности, однако несут бОльшие убытки при резком изменении цены."
   ]
  },
  {
   "cell_type": "markdown",
   "id": "3cec0700",
   "metadata": {},
   "source": [
    "# Прогнозы в реальном времени"
   ]
  },
  {
   "cell_type": "markdown",
   "id": "8dd9a012",
   "metadata": {},
   "source": [
    "###  Функции и зависимости "
   ]
  },
  {
   "cell_type": "code",
   "execution_count": 690,
   "id": "21721512",
   "metadata": {},
   "outputs": [],
   "source": [
    "from datetime import datetime, timedelta\n",
    "def dataset_for_current_pred(symbol = 'ETHUSDT'):\n",
    "  '''Функция возвращает последние доступные данные'''\n",
    "  api_key = \"\"\n",
    "  api_secret = \"\"\n",
    "  client = Client(api_key, api_secret)\n",
    "  current_date = datetime.now().strftime(\"%d-%m-%Y\")\n",
    "  yesterday = (datetime.now()+timedelta(days=-1)).strftime(\"%d/%m/%Y\")\n",
    "  tommorow = (datetime.now()+timedelta(days=+1)).strftime(\"%d/%m/%Y\") \n",
    "\n",
    "  fromDate = str(datetime.strptime(yesterday, '%d/%m/%Y'))\n",
    "  toDate = str(datetime.strptime(tommorow, '%d/%m/%Y'))\n",
    "  symbol = symbol\n",
    "  interval = Client.KLINE_INTERVAL_5MINUTE\n",
    "  # посколько реализована подгрузка начиная со вчерашнего дня, разумно обрезать датасет 24 часами 24*60=1440\n",
    "  df = GetHistoricalData(symbol, interval, fromDate, toDate)[-288:] \n",
    "  return df\n",
    "\n",
    "def bootstrap(mass, n_forcast, intervals_in_hour):\n",
    "    '''Функция бутстрэпит изменения за прошедшие часы (это длина массива) n_forcast*intervals_in_hour раз, \n",
    "    процедура повторяется 10000 раз, в резульатате мы перемножеаем значения и выдаем прогноз в каждой точке таким образом (10000 симуляций)'''\n",
    "    mass_res = np.zeros((10000, 2)) # 2 - нижняя и верхняя границы для каждой симуляции\n",
    "    mass = np.array(mass) # переводим в numpy\n",
    "    n = len(mass) # длина выборки для обучения\n",
    "    size_forecast = n_forcast*intervals_in_hour\n",
    "    # случайно берем числа до n, размера n_forcast*intervals_in_hour\n",
    "    indexes = np.random.randint(n, size=size_forecast*10000)\n",
    "    change = mass[[indexes]]\n",
    "    change = change.reshape((10000, size_forecast))\n",
    "    # теперь рассомтрим куммулятивное перемножение- предсказанное поведение\n",
    "    cum_change = np.cumprod(change, axis=1)\n",
    "    # минимальное и максимальные значения внутри временного интервалла\n",
    "    min_ = np.min(cum_change, axis=1)\n",
    "    max_ = np.max(cum_change, axis=1)\n",
    "    sorted_res_min = np.sort(min_)\n",
    "    sorted_res_max = np.sort(max_)\n",
    "    #######################\n",
    "    high, low = sorted_res_max[9500], sorted_res_min[500]\n",
    "    return np.array([high, low])\n",
    "def make_new_col(df):\n",
    "    '''Потребуются относительные изменения'''\n",
    "    print('Добавляю относительные изменения')\n",
    "    mass = np.zeros(len(df))\n",
    "    mass[0] = 1 # первую точку доопределяем 1\n",
    "    values = df['open'].values.astype(float)\n",
    "    for i in range(1, len(df)):\n",
    "        mass[i] = values[i]/values[i-1]\n",
    "        df['change'] = mass\n",
    "    return df\n",
    "\n",
    "def calc_ratio(start_price, high_board, low_board):\n",
    "    return (high_board-start_price)/(high_board-low_board)"
   ]
  },
  {
   "cell_type": "markdown",
   "id": "5ea5d284",
   "metadata": {},
   "source": [
    "### Требуется ввести сумму средств"
   ]
  },
  {
   "cell_type": "code",
   "execution_count": 691,
   "id": "367fb513",
   "metadata": {},
   "outputs": [],
   "source": [
    "# требуется ввести сумму средств\n",
    "current_amount = 10000\n",
    "n_forcast, intervals_in_hour = 24, 12"
   ]
  },
  {
   "cell_type": "markdown",
   "id": "f2bbbd36",
   "metadata": {},
   "source": [
    "### Запускаем расчет"
   ]
  },
  {
   "cell_type": "code",
   "execution_count": 692,
   "id": "07fc3475",
   "metadata": {},
   "outputs": [
    {
     "name": "stdout",
     "output_type": "stream",
     "text": [
      "Добавляю относительные изменения\n",
      "Распределение средств в долларах\n",
      "Сумма эфира(в usdt) в пул 3525.6234505447956\n",
      "Сумма usdt в пул 2948.753098910409\n",
      "Покупка фьючерса  3525.6234505447956\n"
     ]
    },
    {
     "name": "stderr",
     "output_type": "stream",
     "text": [
      "<ipython-input-690-ac082a017383>:28: FutureWarning: Using a non-tuple sequence for multidimensional indexing is deprecated; use `arr[tuple(seq)]` instead of `arr[seq]`. In the future this will be interpreted as an array index, `arr[np.array(seq)]`, which will result either in an error or a different result.\n",
      "  change = mass[[indexes]]\n"
     ]
    }
   ],
   "source": [
    "\n",
    "#Получаем данные\n",
    "df_current = dataset_for_current_pred()\n",
    "\n",
    "# Добавляем новую колонку\n",
    "df_current = make_new_col(df_current)\n",
    "\n",
    "# требуется для абсолютных значений запомнить текущую\n",
    "current_value = df_current['open'].values.astype(float)[-1]\n",
    "# Рассчитываем сам интервал\n",
    "res_interval = bootstrap(df_current['change'].values, n_forcast=24, intervals_in_hour=60)*current_value\n",
    "\n",
    "# рассчитываем ratio_hedge\n",
    "start_price = current_value\n",
    "high_board = res_interval[0]\n",
    "low_board = res_interval[1]\n",
    "\n",
    "ratio_hedge = calc_ratio(start_price, high_board, low_board)\n",
    "\n",
    "eth_pool = ratio_hedge*current_amount/(1+ratio_hedge)\n",
    "usd_pool = current_amount - 2*eth_pool\n",
    "usd_hedge = eth_pool\n",
    "print('Распределение средств в долларах')\n",
    "print('Сумма эфира(в usdt) в пул', eth_pool)\n",
    "print('Сумма usdt в пул', usd_pool)\n",
    "print('Покупка фьючерса ',usd_hedge)\n",
    "\n"
   ]
  },
  {
   "cell_type": "code",
   "execution_count": 694,
   "id": "d91a4ae8",
   "metadata": {},
   "outputs": [
    {
     "data": {
      "text/plain": [
       "array([1344.12812009, 1116.64109348])"
      ]
     },
     "execution_count": 694,
     "metadata": {},
     "output_type": "execute_result"
    }
   ],
   "source": [
    "res_interval"
   ]
  },
  {
   "cell_type": "code",
   "execution_count": 634,
   "id": "d769974a",
   "metadata": {},
   "outputs": [
    {
     "data": {
      "text/plain": [
       "1221.49"
      ]
     },
     "execution_count": 634,
     "metadata": {},
     "output_type": "execute_result"
    }
   ],
   "source": [
    "current_value"
   ]
  },
  {
   "cell_type": "code",
   "execution_count": null,
   "id": "7faa3cce",
   "metadata": {},
   "outputs": [],
   "source": []
  },
  {
   "cell_type": "code",
   "execution_count": null,
   "id": "956aa403",
   "metadata": {},
   "outputs": [],
   "source": []
  },
  {
   "cell_type": "code",
   "execution_count": null,
   "id": "f52588fc",
   "metadata": {},
   "outputs": [],
   "source": []
  },
  {
   "cell_type": "code",
   "execution_count": null,
   "id": "e3eb1255",
   "metadata": {},
   "outputs": [],
   "source": []
  }
 ],
 "metadata": {
  "kernelspec": {
   "display_name": "Python 3",
   "language": "python",
   "name": "python3"
  },
  "language_info": {
   "codemirror_mode": {
    "name": "ipython",
    "version": 3
   },
   "file_extension": ".py",
   "mimetype": "text/x-python",
   "name": "python",
   "nbconvert_exporter": "python",
   "pygments_lexer": "ipython3",
   "version": "3.8.8"
  }
 },
 "nbformat": 4,
 "nbformat_minor": 5
}
